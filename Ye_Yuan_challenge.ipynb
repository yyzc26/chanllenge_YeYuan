{
 "cells": [
  {
   "cell_type": "markdown",
   "metadata": {},
   "source": [
    "Hello! \n",
    "\n",
    "This is the challenge I completed for the credit card default project. \n",
    "\n",
    "It is completed following the guidiance\n",
    "\n",
    "o Data Visualization/Exploration\n",
    "\n",
    "o Implemented data pre-processing steps.\n",
    "  1. Normalize numerical columns to [0,1]\n",
    "  2. Created dummy variables for categorical variables(X2, X3, X4).   \n",
    "  3. Tried under sampling and over sampling to pre-process the data.(Could have try oversample and undersample together if have more time)\n",
    "  4. columns X6-X11 are [-2,8], the meaning of these numbers are not very clear. Could do more feature engineering if I can get a deeper understanding on them.  Now they are treated as continous numerical variable, but I fill it may make more sense to treat them categorically\n",
    "  \n",
    "o Explored models that are appropriate for this use case.\n",
    "  The task is too estimate the probability of default. Not a pure binary classification problem.  But I still first implement binary classification to test undersampling and oversampling, and get some metrics.  This is to ensure identifying default is doable for this dataset. Otherwise, getting probability makes no sense\n",
    "  \n",
    "o Fit selected model to the analytics ready dataset. List outcomes from model fitting.\n",
    "  I explored'LogisticRegression','DecisionTreeClassifier','RandomForestClassifier','AdaBoostClassifier',\n",
    "  'GradientBoostingClassifier' for classfication. Due to the time limitation, I didnot try other methods, such as ANN, KNN. \n",
    "  Finally, I use logisticRegression to output probability of default on test data set. Because the F1-score for default is not   as high as nondefault, only around 0.52(GBoost).  So, I think, in real world application, we can manually adjust the boundary   of non default vs default to be P = less than 0.5, to increase recall \n",
    "  \n",
    "o Evaluate model performance on held-out/testing dataset.\n",
    "    On held-out for test. F1 score, accuracy are all reported.  \n",
    "    If under sampling, F1 can be balanced to be 0.7 for both default and nondefault, accuracy also around 0.71\n",
    "    If over sampling, F1 is high 0.87 for nondefault, 0.52 for default, accuracy is around 0.81\n",
    "    \n",
    "o What other options would you’ve considered (in solving the problem), if you had additional time?\n",
    "    I only have a day this project, a lot more can be done to improve the model\n",
    "    1. Could do more feature engineering. I didnot handle X5-X11 at all, which could be important \n",
    "    2. The parameters are not optimized yet. Gridsearch takes too long   \n",
    "    3. I also could try ANN, KNN, Naive Bayes\n",
    "    4. For the simplicity of geting probability, I only used logistic regression to estimate probablity of default\n",
    "    \n",
    "Thank you very much for the invitation!\n",
    "Best\n",
    "Ye Yuan"
   ]
  },
  {
   "cell_type": "code",
   "execution_count": 1,
   "metadata": {},
   "outputs": [],
   "source": [
    "import numpy as np\n",
    "import pandas as pd\n",
    "import matplotlib.pyplot as plt\n"
   ]
  },
  {
   "cell_type": "code",
   "execution_count": 2,
   "metadata": {},
   "outputs": [
    {
     "data": {
      "text/html": [
       "<div>\n",
       "<style scoped>\n",
       "    .dataframe tbody tr th:only-of-type {\n",
       "        vertical-align: middle;\n",
       "    }\n",
       "\n",
       "    .dataframe tbody tr th {\n",
       "        vertical-align: top;\n",
       "    }\n",
       "\n",
       "    .dataframe thead th {\n",
       "        text-align: right;\n",
       "    }\n",
       "</style>\n",
       "<table border=\"1\" class=\"dataframe\">\n",
       "  <thead>\n",
       "    <tr style=\"text-align: right;\">\n",
       "      <th></th>\n",
       "      <th>X1</th>\n",
       "      <th>X2</th>\n",
       "      <th>X3</th>\n",
       "      <th>X4</th>\n",
       "      <th>X5</th>\n",
       "      <th>X6</th>\n",
       "      <th>X7</th>\n",
       "      <th>X8</th>\n",
       "      <th>X9</th>\n",
       "      <th>X10</th>\n",
       "      <th>...</th>\n",
       "      <th>X15</th>\n",
       "      <th>X16</th>\n",
       "      <th>X17</th>\n",
       "      <th>X18</th>\n",
       "      <th>X19</th>\n",
       "      <th>X20</th>\n",
       "      <th>X21</th>\n",
       "      <th>X22</th>\n",
       "      <th>X23</th>\n",
       "      <th>Y</th>\n",
       "    </tr>\n",
       "  </thead>\n",
       "  <tbody>\n",
       "    <tr>\n",
       "      <th>0</th>\n",
       "      <td>20000</td>\n",
       "      <td>2</td>\n",
       "      <td>2</td>\n",
       "      <td>1</td>\n",
       "      <td>24</td>\n",
       "      <td>2</td>\n",
       "      <td>2</td>\n",
       "      <td>-1</td>\n",
       "      <td>-1</td>\n",
       "      <td>-2</td>\n",
       "      <td>...</td>\n",
       "      <td>0</td>\n",
       "      <td>0</td>\n",
       "      <td>0</td>\n",
       "      <td>0</td>\n",
       "      <td>689</td>\n",
       "      <td>0</td>\n",
       "      <td>0</td>\n",
       "      <td>0</td>\n",
       "      <td>0</td>\n",
       "      <td>1</td>\n",
       "    </tr>\n",
       "    <tr>\n",
       "      <th>1</th>\n",
       "      <td>120000</td>\n",
       "      <td>2</td>\n",
       "      <td>2</td>\n",
       "      <td>2</td>\n",
       "      <td>26</td>\n",
       "      <td>-1</td>\n",
       "      <td>2</td>\n",
       "      <td>0</td>\n",
       "      <td>0</td>\n",
       "      <td>0</td>\n",
       "      <td>...</td>\n",
       "      <td>3272</td>\n",
       "      <td>3455</td>\n",
       "      <td>3261</td>\n",
       "      <td>0</td>\n",
       "      <td>1000</td>\n",
       "      <td>1000</td>\n",
       "      <td>1000</td>\n",
       "      <td>0</td>\n",
       "      <td>2000</td>\n",
       "      <td>1</td>\n",
       "    </tr>\n",
       "    <tr>\n",
       "      <th>2</th>\n",
       "      <td>90000</td>\n",
       "      <td>2</td>\n",
       "      <td>2</td>\n",
       "      <td>2</td>\n",
       "      <td>34</td>\n",
       "      <td>0</td>\n",
       "      <td>0</td>\n",
       "      <td>0</td>\n",
       "      <td>0</td>\n",
       "      <td>0</td>\n",
       "      <td>...</td>\n",
       "      <td>14331</td>\n",
       "      <td>14948</td>\n",
       "      <td>15549</td>\n",
       "      <td>1518</td>\n",
       "      <td>1500</td>\n",
       "      <td>1000</td>\n",
       "      <td>1000</td>\n",
       "      <td>1000</td>\n",
       "      <td>5000</td>\n",
       "      <td>0</td>\n",
       "    </tr>\n",
       "    <tr>\n",
       "      <th>3</th>\n",
       "      <td>50000</td>\n",
       "      <td>2</td>\n",
       "      <td>2</td>\n",
       "      <td>1</td>\n",
       "      <td>37</td>\n",
       "      <td>0</td>\n",
       "      <td>0</td>\n",
       "      <td>0</td>\n",
       "      <td>0</td>\n",
       "      <td>0</td>\n",
       "      <td>...</td>\n",
       "      <td>28314</td>\n",
       "      <td>28959</td>\n",
       "      <td>29547</td>\n",
       "      <td>2000</td>\n",
       "      <td>2019</td>\n",
       "      <td>1200</td>\n",
       "      <td>1100</td>\n",
       "      <td>1069</td>\n",
       "      <td>1000</td>\n",
       "      <td>0</td>\n",
       "    </tr>\n",
       "    <tr>\n",
       "      <th>4</th>\n",
       "      <td>50000</td>\n",
       "      <td>1</td>\n",
       "      <td>2</td>\n",
       "      <td>1</td>\n",
       "      <td>57</td>\n",
       "      <td>-1</td>\n",
       "      <td>0</td>\n",
       "      <td>-1</td>\n",
       "      <td>0</td>\n",
       "      <td>0</td>\n",
       "      <td>...</td>\n",
       "      <td>20940</td>\n",
       "      <td>19146</td>\n",
       "      <td>19131</td>\n",
       "      <td>2000</td>\n",
       "      <td>36681</td>\n",
       "      <td>10000</td>\n",
       "      <td>9000</td>\n",
       "      <td>689</td>\n",
       "      <td>679</td>\n",
       "      <td>0</td>\n",
       "    </tr>\n",
       "    <tr>\n",
       "      <th>5</th>\n",
       "      <td>50000</td>\n",
       "      <td>1</td>\n",
       "      <td>1</td>\n",
       "      <td>2</td>\n",
       "      <td>37</td>\n",
       "      <td>0</td>\n",
       "      <td>0</td>\n",
       "      <td>0</td>\n",
       "      <td>0</td>\n",
       "      <td>0</td>\n",
       "      <td>...</td>\n",
       "      <td>19394</td>\n",
       "      <td>19619</td>\n",
       "      <td>20024</td>\n",
       "      <td>2500</td>\n",
       "      <td>1815</td>\n",
       "      <td>657</td>\n",
       "      <td>1000</td>\n",
       "      <td>1000</td>\n",
       "      <td>800</td>\n",
       "      <td>0</td>\n",
       "    </tr>\n",
       "    <tr>\n",
       "      <th>6</th>\n",
       "      <td>500000</td>\n",
       "      <td>1</td>\n",
       "      <td>1</td>\n",
       "      <td>2</td>\n",
       "      <td>29</td>\n",
       "      <td>0</td>\n",
       "      <td>0</td>\n",
       "      <td>0</td>\n",
       "      <td>0</td>\n",
       "      <td>0</td>\n",
       "      <td>...</td>\n",
       "      <td>542653</td>\n",
       "      <td>483003</td>\n",
       "      <td>473944</td>\n",
       "      <td>55000</td>\n",
       "      <td>40000</td>\n",
       "      <td>38000</td>\n",
       "      <td>20239</td>\n",
       "      <td>13750</td>\n",
       "      <td>13770</td>\n",
       "      <td>0</td>\n",
       "    </tr>\n",
       "    <tr>\n",
       "      <th>7</th>\n",
       "      <td>100000</td>\n",
       "      <td>2</td>\n",
       "      <td>2</td>\n",
       "      <td>2</td>\n",
       "      <td>23</td>\n",
       "      <td>0</td>\n",
       "      <td>-1</td>\n",
       "      <td>-1</td>\n",
       "      <td>0</td>\n",
       "      <td>0</td>\n",
       "      <td>...</td>\n",
       "      <td>221</td>\n",
       "      <td>-159</td>\n",
       "      <td>567</td>\n",
       "      <td>380</td>\n",
       "      <td>601</td>\n",
       "      <td>0</td>\n",
       "      <td>581</td>\n",
       "      <td>1687</td>\n",
       "      <td>1542</td>\n",
       "      <td>0</td>\n",
       "    </tr>\n",
       "    <tr>\n",
       "      <th>8</th>\n",
       "      <td>140000</td>\n",
       "      <td>2</td>\n",
       "      <td>3</td>\n",
       "      <td>1</td>\n",
       "      <td>28</td>\n",
       "      <td>0</td>\n",
       "      <td>0</td>\n",
       "      <td>2</td>\n",
       "      <td>0</td>\n",
       "      <td>0</td>\n",
       "      <td>...</td>\n",
       "      <td>12211</td>\n",
       "      <td>11793</td>\n",
       "      <td>3719</td>\n",
       "      <td>3329</td>\n",
       "      <td>0</td>\n",
       "      <td>432</td>\n",
       "      <td>1000</td>\n",
       "      <td>1000</td>\n",
       "      <td>1000</td>\n",
       "      <td>0</td>\n",
       "    </tr>\n",
       "    <tr>\n",
       "      <th>9</th>\n",
       "      <td>20000</td>\n",
       "      <td>1</td>\n",
       "      <td>3</td>\n",
       "      <td>2</td>\n",
       "      <td>35</td>\n",
       "      <td>-2</td>\n",
       "      <td>-2</td>\n",
       "      <td>-2</td>\n",
       "      <td>-2</td>\n",
       "      <td>-1</td>\n",
       "      <td>...</td>\n",
       "      <td>0</td>\n",
       "      <td>13007</td>\n",
       "      <td>13912</td>\n",
       "      <td>0</td>\n",
       "      <td>0</td>\n",
       "      <td>0</td>\n",
       "      <td>13007</td>\n",
       "      <td>1122</td>\n",
       "      <td>0</td>\n",
       "      <td>0</td>\n",
       "    </tr>\n",
       "  </tbody>\n",
       "</table>\n",
       "<p>10 rows × 24 columns</p>\n",
       "</div>"
      ],
      "text/plain": [
       "       X1 X2 X3 X4  X5  X6  X7  X8  X9 X10 ...     X15     X16     X17    X18  \\\n",
       "0   20000  2  2  1  24   2   2  -1  -1  -2 ...       0       0       0      0   \n",
       "1  120000  2  2  2  26  -1   2   0   0   0 ...    3272    3455    3261      0   \n",
       "2   90000  2  2  2  34   0   0   0   0   0 ...   14331   14948   15549   1518   \n",
       "3   50000  2  2  1  37   0   0   0   0   0 ...   28314   28959   29547   2000   \n",
       "4   50000  1  2  1  57  -1   0  -1   0   0 ...   20940   19146   19131   2000   \n",
       "5   50000  1  1  2  37   0   0   0   0   0 ...   19394   19619   20024   2500   \n",
       "6  500000  1  1  2  29   0   0   0   0   0 ...  542653  483003  473944  55000   \n",
       "7  100000  2  2  2  23   0  -1  -1   0   0 ...     221    -159     567    380   \n",
       "8  140000  2  3  1  28   0   0   2   0   0 ...   12211   11793    3719   3329   \n",
       "9   20000  1  3  2  35  -2  -2  -2  -2  -1 ...       0   13007   13912      0   \n",
       "\n",
       "     X19    X20    X21    X22    X23  Y  \n",
       "0    689      0      0      0      0  1  \n",
       "1   1000   1000   1000      0   2000  1  \n",
       "2   1500   1000   1000   1000   5000  0  \n",
       "3   2019   1200   1100   1069   1000  0  \n",
       "4  36681  10000   9000    689    679  0  \n",
       "5   1815    657   1000   1000    800  0  \n",
       "6  40000  38000  20239  13750  13770  0  \n",
       "7    601      0    581   1687   1542  0  \n",
       "8      0    432   1000   1000   1000  0  \n",
       "9      0      0  13007   1122      0  0  \n",
       "\n",
       "[10 rows x 24 columns]"
      ]
     },
     "execution_count": 2,
     "metadata": {},
     "output_type": "execute_result"
    }
   ],
   "source": [
    "dataset = pd.read_excel('default of credit card clients.xls')\n",
    "dataset = dataset.iloc[1:] #remove description(row1) in dataframe \n",
    "dataset = dataset.reset_index(drop=True)\n",
    "dataset.head(10)"
   ]
  },
  {
   "cell_type": "code",
   "execution_count": 3,
   "metadata": {},
   "outputs": [
    {
     "data": {
      "text/html": [
       "<div>\n",
       "<style scoped>\n",
       "    .dataframe tbody tr th:only-of-type {\n",
       "        vertical-align: middle;\n",
       "    }\n",
       "\n",
       "    .dataframe tbody tr th {\n",
       "        vertical-align: top;\n",
       "    }\n",
       "\n",
       "    .dataframe thead th {\n",
       "        text-align: right;\n",
       "    }\n",
       "</style>\n",
       "<table border=\"1\" class=\"dataframe\">\n",
       "  <thead>\n",
       "    <tr style=\"text-align: right;\">\n",
       "      <th></th>\n",
       "      <th>X1</th>\n",
       "      <th>X2</th>\n",
       "      <th>X3</th>\n",
       "      <th>X4</th>\n",
       "      <th>X5</th>\n",
       "      <th>X6</th>\n",
       "      <th>X7</th>\n",
       "      <th>X8</th>\n",
       "      <th>X9</th>\n",
       "      <th>X10</th>\n",
       "      <th>...</th>\n",
       "      <th>X15</th>\n",
       "      <th>X16</th>\n",
       "      <th>X17</th>\n",
       "      <th>X18</th>\n",
       "      <th>X19</th>\n",
       "      <th>X20</th>\n",
       "      <th>X21</th>\n",
       "      <th>X22</th>\n",
       "      <th>X23</th>\n",
       "      <th>Y</th>\n",
       "    </tr>\n",
       "  </thead>\n",
       "  <tbody>\n",
       "    <tr>\n",
       "      <th>count</th>\n",
       "      <td>30000</td>\n",
       "      <td>30000</td>\n",
       "      <td>30000</td>\n",
       "      <td>30000</td>\n",
       "      <td>30000</td>\n",
       "      <td>30000</td>\n",
       "      <td>30000</td>\n",
       "      <td>30000</td>\n",
       "      <td>30000</td>\n",
       "      <td>30000</td>\n",
       "      <td>...</td>\n",
       "      <td>30000</td>\n",
       "      <td>30000</td>\n",
       "      <td>30000</td>\n",
       "      <td>30000</td>\n",
       "      <td>30000</td>\n",
       "      <td>30000</td>\n",
       "      <td>30000</td>\n",
       "      <td>30000</td>\n",
       "      <td>30000</td>\n",
       "      <td>30000</td>\n",
       "    </tr>\n",
       "    <tr>\n",
       "      <th>unique</th>\n",
       "      <td>81</td>\n",
       "      <td>2</td>\n",
       "      <td>7</td>\n",
       "      <td>4</td>\n",
       "      <td>56</td>\n",
       "      <td>11</td>\n",
       "      <td>11</td>\n",
       "      <td>11</td>\n",
       "      <td>11</td>\n",
       "      <td>10</td>\n",
       "      <td>...</td>\n",
       "      <td>21548</td>\n",
       "      <td>21010</td>\n",
       "      <td>20604</td>\n",
       "      <td>7943</td>\n",
       "      <td>7899</td>\n",
       "      <td>7518</td>\n",
       "      <td>6937</td>\n",
       "      <td>6897</td>\n",
       "      <td>6939</td>\n",
       "      <td>2</td>\n",
       "    </tr>\n",
       "    <tr>\n",
       "      <th>top</th>\n",
       "      <td>50000</td>\n",
       "      <td>2</td>\n",
       "      <td>2</td>\n",
       "      <td>2</td>\n",
       "      <td>29</td>\n",
       "      <td>0</td>\n",
       "      <td>0</td>\n",
       "      <td>0</td>\n",
       "      <td>0</td>\n",
       "      <td>0</td>\n",
       "      <td>...</td>\n",
       "      <td>0</td>\n",
       "      <td>0</td>\n",
       "      <td>0</td>\n",
       "      <td>0</td>\n",
       "      <td>0</td>\n",
       "      <td>0</td>\n",
       "      <td>0</td>\n",
       "      <td>0</td>\n",
       "      <td>0</td>\n",
       "      <td>0</td>\n",
       "    </tr>\n",
       "    <tr>\n",
       "      <th>freq</th>\n",
       "      <td>3365</td>\n",
       "      <td>18112</td>\n",
       "      <td>14030</td>\n",
       "      <td>15964</td>\n",
       "      <td>1605</td>\n",
       "      <td>14737</td>\n",
       "      <td>15730</td>\n",
       "      <td>15764</td>\n",
       "      <td>16455</td>\n",
       "      <td>16947</td>\n",
       "      <td>...</td>\n",
       "      <td>3195</td>\n",
       "      <td>3506</td>\n",
       "      <td>4020</td>\n",
       "      <td>5249</td>\n",
       "      <td>5396</td>\n",
       "      <td>5968</td>\n",
       "      <td>6408</td>\n",
       "      <td>6703</td>\n",
       "      <td>7173</td>\n",
       "      <td>23364</td>\n",
       "    </tr>\n",
       "  </tbody>\n",
       "</table>\n",
       "<p>4 rows × 24 columns</p>\n",
       "</div>"
      ],
      "text/plain": [
       "           X1     X2     X3     X4     X5     X6     X7     X8     X9    X10  \\\n",
       "count   30000  30000  30000  30000  30000  30000  30000  30000  30000  30000   \n",
       "unique     81      2      7      4     56     11     11     11     11     10   \n",
       "top     50000      2      2      2     29      0      0      0      0      0   \n",
       "freq     3365  18112  14030  15964   1605  14737  15730  15764  16455  16947   \n",
       "\n",
       "        ...      X15    X16    X17    X18    X19    X20    X21    X22    X23  \\\n",
       "count   ...    30000  30000  30000  30000  30000  30000  30000  30000  30000   \n",
       "unique  ...    21548  21010  20604   7943   7899   7518   6937   6897   6939   \n",
       "top     ...        0      0      0      0      0      0      0      0      0   \n",
       "freq    ...     3195   3506   4020   5249   5396   5968   6408   6703   7173   \n",
       "\n",
       "            Y  \n",
       "count   30000  \n",
       "unique      2  \n",
       "top         0  \n",
       "freq    23364  \n",
       "\n",
       "[4 rows x 24 columns]"
      ]
     },
     "execution_count": 3,
     "metadata": {},
     "output_type": "execute_result"
    }
   ],
   "source": [
    "dataset.describe()"
   ]
  },
  {
   "cell_type": "code",
   "execution_count": 4,
   "metadata": {},
   "outputs": [
    {
     "data": {
      "text/plain": [
       "(30000, 24)"
      ]
     },
     "execution_count": 4,
     "metadata": {},
     "output_type": "execute_result"
    }
   ],
   "source": [
    "dataset.shape"
   ]
  },
  {
   "cell_type": "code",
   "execution_count": 5,
   "metadata": {},
   "outputs": [
    {
     "name": "stdout",
     "output_type": "stream",
     "text": [
      "<class 'pandas.core.frame.DataFrame'>\n",
      "RangeIndex: 30000 entries, 0 to 29999\n",
      "Data columns (total 24 columns):\n",
      "X1     30000 non-null object\n",
      "X2     30000 non-null object\n",
      "X3     30000 non-null object\n",
      "X4     30000 non-null object\n",
      "X5     30000 non-null object\n",
      "X6     30000 non-null object\n",
      "X7     30000 non-null object\n",
      "X8     30000 non-null object\n",
      "X9     30000 non-null object\n",
      "X10    30000 non-null object\n",
      "X11    30000 non-null object\n",
      "X12    30000 non-null object\n",
      "X13    30000 non-null object\n",
      "X14    30000 non-null object\n",
      "X15    30000 non-null object\n",
      "X16    30000 non-null object\n",
      "X17    30000 non-null object\n",
      "X18    30000 non-null object\n",
      "X19    30000 non-null object\n",
      "X20    30000 non-null object\n",
      "X21    30000 non-null object\n",
      "X22    30000 non-null object\n",
      "X23    30000 non-null object\n",
      "Y      30000 non-null object\n",
      "dtypes: object(24)\n",
      "memory usage: 5.5+ MB\n"
     ]
    }
   ],
   "source": [
    "dataset.info()  # data type 'object' needs converting to int \n",
    "dataset = dataset.astype(str).astype(int)"
   ]
  },
  {
   "cell_type": "code",
   "execution_count": 6,
   "metadata": {},
   "outputs": [
    {
     "data": {
      "text/plain": [
       "0    23364\n",
       "1     6636\n",
       "Name: Y, dtype: int64"
      ]
     },
     "execution_count": 6,
     "metadata": {},
     "output_type": "execute_result"
    }
   ],
   "source": [
    "dataset.Y.value_counts()  # data is a little biased,more non default than default. over/under sampling may be necessary"
   ]
  },
  {
   "cell_type": "code",
   "execution_count": 7,
   "metadata": {},
   "outputs": [
    {
     "name": "stdout",
     "output_type": "stream",
     "text": [
      "percentage of default is 22.12\n",
      "percentage of non default is 77.88000000000001\n"
     ]
    }
   ],
   "source": [
    "default = dataset[dataset['Y']==1]\n",
    "non_default = dataset[dataset['Y']==0]\n",
    "\n",
    "print(\"percentage of default is\", len(default) / len(dataset['Y']) * 100)\n",
    "print(\"percentage of non default is\", len(non_default) / len(dataset['Y']) * 100)"
   ]
  },
  {
   "cell_type": "markdown",
   "metadata": {},
   "source": [
    "Data Visualization/Exploration"
   ]
  },
  {
   "cell_type": "code",
   "execution_count": 8,
   "metadata": {},
   "outputs": [
    {
     "data": {
      "image/png": "[encoded data removed]",
      "text/plain": [
       "<Figure size 432x288 with 1 Axes>"
      ]
     },
     "metadata": {
      "needs_background": "light"
     },
     "output_type": "display_data"
    },
    {
     "data": {
      "image/png": "[encoded data removed]",
      "text/plain": [
       "<Figure size 432x288 with 1 Axes>"
      ]
     },
     "metadata": {
      "needs_background": "light"
     },
     "output_type": "display_data"
    },
    {
     "data": {
      "image/png": "[encoded data removed]",
      "text/plain": [
       "<Figure size 432x288 with 1 Axes>"
      ]
     },
     "metadata": {
      "needs_background": "light"
     },
     "output_type": "display_data"
    }
   ],
   "source": [
    "dataset['X1'].hist()  \n",
    "plt.ylabel(\"Number\") \n",
    "plt.xlabel(\"NT dollar\") \n",
    "plt.title('NT dollar distribution')\n",
    "plt.show() \n",
    "\n",
    "dataset[dataset.Y==0]['X1'].hist()  \n",
    "plt.ylabel(\"Number\") \n",
    "plt.xlabel(\"Fare\") \n",
    "plt.title('NT dollar distribution of people who did not default')\n",
    "plt.show()\n",
    "\n",
    "dataset[dataset.Y==1]['X1'].hist()  \n",
    "plt.ylabel(\"Number\") \n",
    "plt.xlabel(\"Fare\") \n",
    "plt.title('NT dollar distribution of people who defaulted')\n",
    "plt.show()"
   ]
  },
  {
   "cell_type": "markdown",
   "metadata": {},
   "source": [
    "people with lower NT dollar is more likely to default"
   ]
  },
  {
   "cell_type": "markdown",
   "metadata": {},
   "source": [
    "check X2: gender"
   ]
  },
  {
   "cell_type": "code",
   "execution_count": 9,
   "metadata": {},
   "outputs": [
    {
     "name": "stdout",
     "output_type": "stream",
     "text": [
      "   male  female\n",
      "0  9015   14349\n",
      "1  2873    3763\n"
     ]
    },
    {
     "data": {
      "image/png": "[encoded data removed]",
      "text/plain": [
       "<Figure size 432x288 with 1 Axes>"
      ]
     },
     "metadata": {
      "needs_background": "light"
     },
     "output_type": "display_data"
    },
    {
     "name": "stdout",
     "output_type": "stream",
     "text": [
      "      male%   female%\n",
      "0  0.758328  0.792237\n",
      "1  0.241672  0.207763\n"
     ]
    }
   ],
   "source": [
    "default_male = dataset.Y[dataset.X2 == 1].value_counts()\n",
    "default_female = dataset.Y[dataset.X2 == 2].value_counts()\n",
    "df=pd.DataFrame({'male':default_male, 'female':default_female})\n",
    "print(df)\n",
    "df.plot(kind='bar', stacked=True)\n",
    "plt.title(\"default by sex\")\n",
    "plt.xlabel(\"default\") \n",
    "plt.ylabel(\"count\")\n",
    "plt.show()\n",
    "default_male = dataset.Y[dataset.X2 == 1].value_counts()/len(dataset.Y[dataset.X2 == 1])\n",
    "default_female = dataset.Y[dataset.X2 == 2].value_counts()/len(dataset.Y[dataset.X2 == 2])\n",
    "df2=pd.DataFrame({'male%':default_male, 'female%':default_female})\n",
    "print(df2)"
   ]
  },
  {
   "cell_type": "markdown",
   "metadata": {},
   "source": [
    "male is slightly more likely to default, 24% VS 21%"
   ]
  },
  {
   "cell_type": "markdown",
   "metadata": {},
   "source": [
    "Check X3, education level"
   ]
  },
  {
   "cell_type": "code",
   "execution_count": 10,
   "metadata": {},
   "outputs": [
    {
     "data": {
      "image/png": "[encoded data removed]",
      "text/plain": [
       "<Figure size 432x288 with 1 Axes>"
      ]
     },
     "metadata": {
      "needs_background": "light"
     },
     "output_type": "display_data"
    },
    {
     "name": "stdout",
     "output_type": "stream",
     "text": [
      "   graduate  university  high school  others  unknow1  unknow2  unknow3\n",
      "0      8549       10700         3680     116     14.0      262       43\n",
      "1      2036        3330         1237       7      NaN       18        8\n"
     ]
    },
    {
     "data": {
      "image/png": "[encoded data removed]",
      "text/plain": [
       "<Figure size 432x288 with 1 Axes>"
      ]
     },
     "metadata": {
      "needs_background": "light"
     },
     "output_type": "display_data"
    },
    {
     "name": "stdout",
     "output_type": "stream",
     "text": [
      "   graduate%  university%  high school%   others%  unknow1%  unknow2%  \\\n",
      "0   0.807652     0.762651      0.748424  0.943089       1.0  0.935714   \n",
      "1   0.192348     0.237349      0.251576  0.056911       NaN  0.064286   \n",
      "\n",
      "   unknow3%  \n",
      "0  0.843137  \n",
      "1  0.156863  \n"
     ]
    }
   ],
   "source": [
    "dataset['X3'].hist()  \n",
    "plt.show()\n",
    "\n",
    "default_unknow1 = dataset.Y[dataset['X3'] == 0].value_counts()\n",
    "default_grad = dataset.Y[dataset['X3'] == 1].value_counts()\n",
    "default_univ = dataset.Y[dataset['X3'] == 2].value_counts()\n",
    "default_high = dataset.Y[dataset['X3'] == 3].value_counts()\n",
    "default_other = dataset.Y[dataset['X3'] == 4].value_counts()\n",
    "default_unknow2 = dataset.Y[dataset['X3'] == 5].value_counts()\n",
    "default_unknow3 = dataset.Y[dataset['X3'] == 6].value_counts()\n",
    "\n",
    "df=pd.DataFrame({'graduate':default_grad, 'university':default_univ, 'high school':default_high,'others':default_other,\n",
    "                'unknow1':default_unknow1,'unknow2':default_unknow2,'unknow3':default_unknow3,})\n",
    "\n",
    "print(df)\n",
    "\n",
    "df.plot(kind='bar', stacked=True)\n",
    "plt.title(\"default by education\")\n",
    "plt.xlabel(\"education level\") \n",
    "plt.ylabel(\"count\")\n",
    "plt.show()\n",
    "\n",
    "default_unknow1 = dataset.Y[dataset['X3'] == 0].value_counts()/len(dataset.Y[dataset.X3 == 0])\n",
    "default_grad = dataset.Y[dataset['X3'] == 1].value_counts()/len(dataset.Y[dataset.X3 == 1])\n",
    "default_univ = dataset.Y[dataset['X3'] == 2].value_counts()/len(dataset.Y[dataset.X3 == 2])\n",
    "default_high = dataset.Y[dataset['X3'] == 3].value_counts()/len(dataset.Y[dataset.X3 == 3])\n",
    "default_other = dataset.Y[dataset['X3'] == 4].value_counts()/len(dataset.Y[dataset.X3 == 4])\n",
    "default_unknow2 = dataset.Y[dataset['X3'] == 5].value_counts()/len(dataset.Y[dataset.X3 == 5])\n",
    "default_unknow3 = dataset.Y[dataset['X3'] == 6].value_counts()/len(dataset.Y[dataset.X3 == 6])\n",
    "\n",
    "df=pd.DataFrame({'graduate%':default_grad, 'university%':default_univ, 'high school%':default_high,'others%':default_other,\n",
    "                'unknow1%':default_unknow1,'unknow2%':default_unknow2,'unknow3%':default_unknow3,})\n",
    "\n",
    "print(df)"
   ]
  },
  {
   "cell_type": "markdown",
   "metadata": {},
   "source": [
    "default%, high school (slightly)> univeristy (slightly)> graduate >> others\n",
    "\n",
    "Also found few data points with education = 0, 5, 6, not very clear what these labels mean. labeled as \n",
    "{unknow1:0},  {unknow2:5}, {unknow3:6}"
   ]
  },
  {
   "cell_type": "markdown",
   "metadata": {},
   "source": [
    "Check marital status: description shows three categories: 1 = married; 2 = single; 3 = others. But the data has 0,1,2,3. Label 0 = unknown"
   ]
  },
  {
   "cell_type": "code",
   "execution_count": 11,
   "metadata": {},
   "outputs": [
    {
     "data": {
      "image/png": "[encoded data removed]",
      "text/plain": [
       "<Figure size 432x288 with 1 Axes>"
      ]
     },
     "metadata": {
      "needs_background": "light"
     },
     "output_type": "display_data"
    },
    {
     "name": "stdout",
     "output_type": "stream",
     "text": [
      "   unknown  married  single  others\n",
      "0       49    10453   12623     239\n",
      "1        5     3206    3341      84\n"
     ]
    },
    {
     "data": {
      "image/png": "[encoded data removed]",
      "text/plain": [
       "<Figure size 432x288 with 1 Axes>"
      ]
     },
     "metadata": {
      "needs_background": "light"
     },
     "output_type": "display_data"
    },
    {
     "name": "stdout",
     "output_type": "stream",
     "text": [
      "    unknown  married%   single%   others%\n",
      "0  0.907407  0.765283  0.790717  0.739938\n",
      "1  0.092593  0.234717  0.209283  0.260062\n"
     ]
    }
   ],
   "source": [
    "dataset['X4'].hist()   \n",
    "plt.show()\n",
    "\n",
    "default_unknown = dataset.Y[dataset['X4'] == 0].value_counts()\n",
    "default_m = dataset.Y[dataset['X4'] == 1].value_counts()\n",
    "default_s = dataset.Y[dataset['X4'] == 2].value_counts()\n",
    "default_o = dataset.Y[dataset['X4'] == 3].value_counts()\n",
    "\n",
    "\n",
    "df=pd.DataFrame({'unknown':default_unknown, 'married':default_m, 'single':default_s, 'others':default_o})\n",
    "\n",
    "print(df)\n",
    "\n",
    "df.plot(kind='bar', stacked=True)\n",
    "plt.title(\"default by education\")\n",
    "plt.xlabel(\"education level\") \n",
    "plt.ylabel(\"count\")\n",
    "plt.show()\n",
    "\n",
    "default_u = dataset.Y[dataset['X4'] == 0].value_counts()/len(dataset.Y[dataset.X4 == 0])\n",
    "default_m = dataset.Y[dataset['X4'] == 1].value_counts()/len(dataset.Y[dataset.X4 == 1])\n",
    "default_s = dataset.Y[dataset['X4'] == 2].value_counts()/len(dataset.Y[dataset.X4 == 2])\n",
    "default_o = dataset.Y[dataset['X4'] == 3].value_counts()/len(dataset.Y[dataset.X4 == 3])\n",
    "\n",
    "\n",
    "df=pd.DataFrame({'unknown':default_u,'married%':default_m, 'single%':default_s, 'others%':default_o})\n",
    "\n",
    "print(df)"
   ]
  },
  {
   "cell_type": "markdown",
   "metadata": {},
   "source": [
    "default rate, others > single > married > unknown\n",
    "Also found few data with labeled as 0, not very clear what they means"
   ]
  },
  {
   "cell_type": "code",
   "execution_count": null,
   "metadata": {},
   "outputs": [],
   "source": []
  },
  {
   "cell_type": "markdown",
   "metadata": {},
   "source": [
    "Check X5: age(year)"
   ]
  },
  {
   "cell_type": "code",
   "execution_count": 12,
   "metadata": {},
   "outputs": [
    {
     "data": {
      "image/png": "[encoded data removed]",
      "text/plain": [
       "<Figure size 432x288 with 1 Axes>"
      ]
     },
     "metadata": {
      "needs_background": "light"
     },
     "output_type": "display_data"
    },
    {
     "data": {
      "image/png": "[encoded data removed]",
      "text/plain": [
       "<Figure size 432x288 with 1 Axes>"
      ]
     },
     "metadata": {
      "needs_background": "light"
     },
     "output_type": "display_data"
    },
    {
     "data": {
      "image/png": "[encoded data removed]",
      "text/plain": [
       "<Figure size 432x288 with 1 Axes>"
      ]
     },
     "metadata": {
      "needs_background": "light"
     },
     "output_type": "display_data"
    }
   ],
   "source": [
    "dataset['X5'].hist(bins=30)  \n",
    "plt.ylabel(\"Number\") \n",
    "plt.xlabel(\"Age\") \n",
    "plt.title('Age distribution')\n",
    "plt.show() \n",
    "\n",
    "dataset[dataset.Y==0]['X5'].hist(bins=30)  \n",
    "plt.ylabel(\"Number\") \n",
    "plt.xlabel(\"Age\") \n",
    "plt.title('Age distribution of people who did not default')\n",
    "plt.show()\n",
    "\n",
    "dataset[dataset.Y==1]['X5'].hist(bins=30)  \n",
    "plt.ylabel(\"Number\") \n",
    "plt.xlabel(\"Age\") \n",
    "plt.title('Age distribution of people who defaulted')\n",
    "plt.show()"
   ]
  },
  {
   "cell_type": "markdown",
   "metadata": {},
   "source": [
    "age 20-28 has higher ratio of default"
   ]
  },
  {
   "cell_type": "code",
   "execution_count": 13,
   "metadata": {},
   "outputs": [],
   "source": [
    "X = dataset.drop(['Y'], axis = 1) # X is all the features\n",
    "Y = dataset['Y'] # Y is the label"
   ]
  },
  {
   "cell_type": "code",
   "execution_count": 14,
   "metadata": {},
   "outputs": [],
   "source": [
    "X_no_normalizatiom = X.loc[:,'X2':'X11']\n",
    "X_need_normalizatiom = X.drop(X_no_normalizatiom.columns, axis =1)\n",
    "\n"
   ]
  },
  {
   "cell_type": "code",
   "execution_count": 15,
   "metadata": {},
   "outputs": [
    {
     "data": {
      "text/html": [
       "<div>\n",
       "<style scoped>\n",
       "    .dataframe tbody tr th:only-of-type {\n",
       "        vertical-align: middle;\n",
       "    }\n",
       "\n",
       "    .dataframe tbody tr th {\n",
       "        vertical-align: top;\n",
       "    }\n",
       "\n",
       "    .dataframe thead th {\n",
       "        text-align: right;\n",
       "    }\n",
       "</style>\n",
       "<table border=\"1\" class=\"dataframe\">\n",
       "  <thead>\n",
       "    <tr style=\"text-align: right;\">\n",
       "      <th></th>\n",
       "      <th>X1</th>\n",
       "      <th>X2</th>\n",
       "      <th>X3</th>\n",
       "      <th>X4</th>\n",
       "      <th>X5</th>\n",
       "      <th>X6</th>\n",
       "      <th>X7</th>\n",
       "      <th>X8</th>\n",
       "      <th>X9</th>\n",
       "      <th>X10</th>\n",
       "      <th>...</th>\n",
       "      <th>X14</th>\n",
       "      <th>X15</th>\n",
       "      <th>X16</th>\n",
       "      <th>X17</th>\n",
       "      <th>X18</th>\n",
       "      <th>X19</th>\n",
       "      <th>X20</th>\n",
       "      <th>X21</th>\n",
       "      <th>X22</th>\n",
       "      <th>X23</th>\n",
       "    </tr>\n",
       "  </thead>\n",
       "  <tbody>\n",
       "    <tr>\n",
       "      <th>0</th>\n",
       "      <td>20000</td>\n",
       "      <td>2</td>\n",
       "      <td>2</td>\n",
       "      <td>1</td>\n",
       "      <td>24</td>\n",
       "      <td>2</td>\n",
       "      <td>2</td>\n",
       "      <td>-1</td>\n",
       "      <td>-1</td>\n",
       "      <td>-2</td>\n",
       "      <td>...</td>\n",
       "      <td>689</td>\n",
       "      <td>0</td>\n",
       "      <td>0</td>\n",
       "      <td>0</td>\n",
       "      <td>0</td>\n",
       "      <td>689</td>\n",
       "      <td>0</td>\n",
       "      <td>0</td>\n",
       "      <td>0</td>\n",
       "      <td>0</td>\n",
       "    </tr>\n",
       "    <tr>\n",
       "      <th>1</th>\n",
       "      <td>120000</td>\n",
       "      <td>2</td>\n",
       "      <td>2</td>\n",
       "      <td>2</td>\n",
       "      <td>26</td>\n",
       "      <td>-1</td>\n",
       "      <td>2</td>\n",
       "      <td>0</td>\n",
       "      <td>0</td>\n",
       "      <td>0</td>\n",
       "      <td>...</td>\n",
       "      <td>2682</td>\n",
       "      <td>3272</td>\n",
       "      <td>3455</td>\n",
       "      <td>3261</td>\n",
       "      <td>0</td>\n",
       "      <td>1000</td>\n",
       "      <td>1000</td>\n",
       "      <td>1000</td>\n",
       "      <td>0</td>\n",
       "      <td>2000</td>\n",
       "    </tr>\n",
       "    <tr>\n",
       "      <th>2</th>\n",
       "      <td>90000</td>\n",
       "      <td>2</td>\n",
       "      <td>2</td>\n",
       "      <td>2</td>\n",
       "      <td>34</td>\n",
       "      <td>0</td>\n",
       "      <td>0</td>\n",
       "      <td>0</td>\n",
       "      <td>0</td>\n",
       "      <td>0</td>\n",
       "      <td>...</td>\n",
       "      <td>13559</td>\n",
       "      <td>14331</td>\n",
       "      <td>14948</td>\n",
       "      <td>15549</td>\n",
       "      <td>1518</td>\n",
       "      <td>1500</td>\n",
       "      <td>1000</td>\n",
       "      <td>1000</td>\n",
       "      <td>1000</td>\n",
       "      <td>5000</td>\n",
       "    </tr>\n",
       "    <tr>\n",
       "      <th>3</th>\n",
       "      <td>50000</td>\n",
       "      <td>2</td>\n",
       "      <td>2</td>\n",
       "      <td>1</td>\n",
       "      <td>37</td>\n",
       "      <td>0</td>\n",
       "      <td>0</td>\n",
       "      <td>0</td>\n",
       "      <td>0</td>\n",
       "      <td>0</td>\n",
       "      <td>...</td>\n",
       "      <td>49291</td>\n",
       "      <td>28314</td>\n",
       "      <td>28959</td>\n",
       "      <td>29547</td>\n",
       "      <td>2000</td>\n",
       "      <td>2019</td>\n",
       "      <td>1200</td>\n",
       "      <td>1100</td>\n",
       "      <td>1069</td>\n",
       "      <td>1000</td>\n",
       "    </tr>\n",
       "    <tr>\n",
       "      <th>4</th>\n",
       "      <td>50000</td>\n",
       "      <td>1</td>\n",
       "      <td>2</td>\n",
       "      <td>1</td>\n",
       "      <td>57</td>\n",
       "      <td>-1</td>\n",
       "      <td>0</td>\n",
       "      <td>-1</td>\n",
       "      <td>0</td>\n",
       "      <td>0</td>\n",
       "      <td>...</td>\n",
       "      <td>35835</td>\n",
       "      <td>20940</td>\n",
       "      <td>19146</td>\n",
       "      <td>19131</td>\n",
       "      <td>2000</td>\n",
       "      <td>36681</td>\n",
       "      <td>10000</td>\n",
       "      <td>9000</td>\n",
       "      <td>689</td>\n",
       "      <td>679</td>\n",
       "    </tr>\n",
       "  </tbody>\n",
       "</table>\n",
       "<p>5 rows × 23 columns</p>\n",
       "</div>"
      ],
      "text/plain": [
       "       X1  X2  X3  X4  X5  X6  X7  X8  X9  X10  ...     X14    X15    X16  \\\n",
       "0   20000   2   2   1  24   2   2  -1  -1   -2  ...     689      0      0   \n",
       "1  120000   2   2   2  26  -1   2   0   0    0  ...    2682   3272   3455   \n",
       "2   90000   2   2   2  34   0   0   0   0    0  ...   13559  14331  14948   \n",
       "3   50000   2   2   1  37   0   0   0   0    0  ...   49291  28314  28959   \n",
       "4   50000   1   2   1  57  -1   0  -1   0    0  ...   35835  20940  19146   \n",
       "\n",
       "     X17   X18    X19    X20   X21   X22   X23  \n",
       "0      0     0    689      0     0     0     0  \n",
       "1   3261     0   1000   1000  1000     0  2000  \n",
       "2  15549  1518   1500   1000  1000  1000  5000  \n",
       "3  29547  2000   2019   1200  1100  1069  1000  \n",
       "4  19131  2000  36681  10000  9000   689   679  \n",
       "\n",
       "[5 rows x 23 columns]"
      ]
     },
     "execution_count": 15,
     "metadata": {},
     "output_type": "execute_result"
    }
   ],
   "source": [
    "X.head()"
   ]
  },
  {
   "cell_type": "code",
   "execution_count": 16,
   "metadata": {},
   "outputs": [],
   "source": [
    "from sklearn import preprocessing  # normalize data to [0,1]\n",
    "names = X_need_normalizatiom.columns\n",
    "scaler = preprocessing.Normalizer()\n",
    "scaled_df = scaler.fit_transform(X_need_normalizatiom)\n",
    "X_need_norm = pd.DataFrame(scaled_df, columns=names)"
   ]
  },
  {
   "cell_type": "code",
   "execution_count": 17,
   "metadata": {},
   "outputs": [
    {
     "data": {
      "text/html": [
       "<div>\n",
       "<style scoped>\n",
       "    .dataframe tbody tr th:only-of-type {\n",
       "        vertical-align: middle;\n",
       "    }\n",
       "\n",
       "    .dataframe tbody tr th {\n",
       "        vertical-align: top;\n",
       "    }\n",
       "\n",
       "    .dataframe thead th {\n",
       "        text-align: right;\n",
       "    }\n",
       "</style>\n",
       "<table border=\"1\" class=\"dataframe\">\n",
       "  <thead>\n",
       "    <tr style=\"text-align: right;\">\n",
       "      <th></th>\n",
       "      <th>X1</th>\n",
       "      <th>X12</th>\n",
       "      <th>X13</th>\n",
       "      <th>X14</th>\n",
       "      <th>X15</th>\n",
       "      <th>X16</th>\n",
       "      <th>X17</th>\n",
       "      <th>X18</th>\n",
       "      <th>X19</th>\n",
       "      <th>X20</th>\n",
       "      <th>X21</th>\n",
       "      <th>X22</th>\n",
       "      <th>X23</th>\n",
       "    </tr>\n",
       "  </thead>\n",
       "  <tbody>\n",
       "    <tr>\n",
       "      <th>0</th>\n",
       "      <td>0.969136</td>\n",
       "      <td>0.189611</td>\n",
       "      <td>0.150313</td>\n",
       "      <td>0.033387</td>\n",
       "      <td>0.000000</td>\n",
       "      <td>0.000000</td>\n",
       "      <td>0.000000</td>\n",
       "      <td>0.000000</td>\n",
       "      <td>0.033387</td>\n",
       "      <td>0.000000</td>\n",
       "      <td>0.000000</td>\n",
       "      <td>0.000000</td>\n",
       "      <td>0.000000</td>\n",
       "    </tr>\n",
       "    <tr>\n",
       "      <th>1</th>\n",
       "      <td>0.998005</td>\n",
       "      <td>0.022305</td>\n",
       "      <td>0.014346</td>\n",
       "      <td>0.022305</td>\n",
       "      <td>0.027212</td>\n",
       "      <td>0.028734</td>\n",
       "      <td>0.027121</td>\n",
       "      <td>0.000000</td>\n",
       "      <td>0.008317</td>\n",
       "      <td>0.008317</td>\n",
       "      <td>0.008317</td>\n",
       "      <td>0.000000</td>\n",
       "      <td>0.016633</td>\n",
       "    </tr>\n",
       "    <tr>\n",
       "      <th>2</th>\n",
       "      <td>0.898265</td>\n",
       "      <td>0.291826</td>\n",
       "      <td>0.140000</td>\n",
       "      <td>0.135329</td>\n",
       "      <td>0.143034</td>\n",
       "      <td>0.149192</td>\n",
       "      <td>0.155190</td>\n",
       "      <td>0.015151</td>\n",
       "      <td>0.014971</td>\n",
       "      <td>0.009981</td>\n",
       "      <td>0.009981</td>\n",
       "      <td>0.009981</td>\n",
       "      <td>0.049904</td>\n",
       "    </tr>\n",
       "    <tr>\n",
       "      <th>3</th>\n",
       "      <td>0.456620</td>\n",
       "      <td>0.429132</td>\n",
       "      <td>0.440483</td>\n",
       "      <td>0.450145</td>\n",
       "      <td>0.258575</td>\n",
       "      <td>0.264465</td>\n",
       "      <td>0.269835</td>\n",
       "      <td>0.018265</td>\n",
       "      <td>0.018438</td>\n",
       "      <td>0.010959</td>\n",
       "      <td>0.010046</td>\n",
       "      <td>0.009763</td>\n",
       "      <td>0.009132</td>\n",
       "    </tr>\n",
       "    <tr>\n",
       "      <th>4</th>\n",
       "      <td>0.615783</td>\n",
       "      <td>0.106124</td>\n",
       "      <td>0.069830</td>\n",
       "      <td>0.441332</td>\n",
       "      <td>0.257890</td>\n",
       "      <td>0.235796</td>\n",
       "      <td>0.235611</td>\n",
       "      <td>0.024631</td>\n",
       "      <td>0.451751</td>\n",
       "      <td>0.123157</td>\n",
       "      <td>0.110841</td>\n",
       "      <td>0.008485</td>\n",
       "      <td>0.008362</td>\n",
       "    </tr>\n",
       "  </tbody>\n",
       "</table>\n",
       "</div>"
      ],
      "text/plain": [
       "         X1       X12       X13       X14       X15       X16       X17  \\\n",
       "0  0.969136  0.189611  0.150313  0.033387  0.000000  0.000000  0.000000   \n",
       "1  0.998005  0.022305  0.014346  0.022305  0.027212  0.028734  0.027121   \n",
       "2  0.898265  0.291826  0.140000  0.135329  0.143034  0.149192  0.155190   \n",
       "3  0.456620  0.429132  0.440483  0.450145  0.258575  0.264465  0.269835   \n",
       "4  0.615783  0.106124  0.069830  0.441332  0.257890  0.235796  0.235611   \n",
       "\n",
       "        X18       X19       X20       X21       X22       X23  \n",
       "0  0.000000  0.033387  0.000000  0.000000  0.000000  0.000000  \n",
       "1  0.000000  0.008317  0.008317  0.008317  0.000000  0.016633  \n",
       "2  0.015151  0.014971  0.009981  0.009981  0.009981  0.049904  \n",
       "3  0.018265  0.018438  0.010959  0.010046  0.009763  0.009132  \n",
       "4  0.024631  0.451751  0.123157  0.110841  0.008485  0.008362  "
      ]
     },
     "execution_count": 17,
     "metadata": {},
     "output_type": "execute_result"
    }
   ],
   "source": [
    "X_need_norm.head()"
   ]
  },
  {
   "cell_type": "code",
   "execution_count": 18,
   "metadata": {},
   "outputs": [],
   "source": [
    "X = dataset.drop(['Y'], axis = 1) # X is all the features\n",
    "Y = dataset['Y'] # Y is the label\n",
    "#convert categorical features: X2, X3, X4 into dummy variables(one-hot encoding)\n",
    "dummies_gender = pd.get_dummies(X['X2'],prefix=['gender'], drop_first=True)\n",
    "dummies_edu = pd.get_dummies(X['X3'],prefix=['edu'], drop_first=True)\n",
    "dummies_marital = pd.get_dummies(X['X4'],prefix=['marital'], drop_first=True)\n",
    "raw = pd.concat([X_need_norm,X_no_normalizatiom,dummies_gender,dummies_edu,dummies_marital], axis=1)\n",
    "X = raw.drop(['X2','X3','X4'], axis=1) # drop dependent variables\n"
   ]
  },
  {
   "cell_type": "code",
   "execution_count": 19,
   "metadata": {},
   "outputs": [
    {
     "data": {
      "text/plain": [
       "(30000, 30)"
      ]
     },
     "execution_count": 19,
     "metadata": {},
     "output_type": "execute_result"
    }
   ],
   "source": [
    "X.shape"
   ]
  },
  {
   "cell_type": "code",
   "execution_count": 20,
   "metadata": {},
   "outputs": [],
   "source": [
    "from sklearn.model_selection import train_test_split\n",
    "X_train, X_test, Y_train, Y_test = train_test_split(X, Y, test_size=0.2, random_state=1) # train/test split. set 20% data for test. 80% data for training"
   ]
  },
  {
   "cell_type": "markdown",
   "metadata": {},
   "source": [
    "Going to train and test on different models"
   ]
  },
  {
   "cell_type": "code",
   "execution_count": 21,
   "metadata": {},
   "outputs": [],
   "source": [
    "from sklearn import metrics\n",
    "from sklearn import tree\n",
    "from sklearn import ensemble\n",
    "from sklearn.tree import DecisionTreeClassifier\n",
    "from sklearn.linear_model import LogisticRegression\n",
    "from sklearn.ensemble import RandomForestClassifier, AdaBoostClassifier, GradientBoostingClassifier\n",
    "from sklearn.model_selection import cross_val_score\n",
    "from sklearn.metrics import confusion_matrix, f1_score, precision_score, accuracy_score, recall_score, classification_report\n"
   ]
  },
  {
   "cell_type": "code",
   "execution_count": 22,
   "metadata": {},
   "outputs": [
    {
     "name": "stdout",
     "output_type": "stream",
     "text": [
      "LogisticRegression\n",
      "              precision    recall  f1-score   support\n",
      "\n",
      "           0       0.81      0.97      0.89      4663\n",
      "           1       0.70      0.22      0.33      1337\n",
      "\n",
      "    accuracy                           0.81      6000\n",
      "   macro avg       0.76      0.60      0.61      6000\n",
      "weighted avg       0.79      0.81      0.76      6000\n",
      "\n"
     ]
    },
    {
     "name": "stderr",
     "output_type": "stream",
     "text": [
      "C:\\Users\\Yuan's\\AppData\\Roaming\\Python\\Python37\\site-packages\\sklearn\\linear_model\\_logistic.py:940: ConvergenceWarning: lbfgs failed to converge (status=1):\n",
      "STOP: TOTAL NO. of ITERATIONS REACHED LIMIT.\n",
      "\n",
      "Increase the number of iterations (max_iter) or scale the data as shown in:\n",
      "    https://scikit-learn.org/stable/modules/preprocessing.html\n",
      "Please also refer to the documentation for alternative solver options:\n",
      "    https://scikit-learn.org/stable/modules/linear_model.html#logistic-regression\n",
      "  extra_warning_msg=_LOGISTIC_SOLVER_CONVERGENCE_MSG)\n"
     ]
    },
    {
     "name": "stdout",
     "output_type": "stream",
     "text": [
      "[[4540  123]\n",
      " [1045  292]]\n",
      "0.8053333333333333\n",
      "DecisionTreeClassifier\n",
      "              precision    recall  f1-score   support\n",
      "\n",
      "           0       0.82      0.82      0.82      4663\n",
      "           1       0.38      0.39      0.38      1337\n",
      "\n",
      "    accuracy                           0.72      6000\n",
      "   macro avg       0.60      0.60      0.60      6000\n",
      "weighted avg       0.72      0.72      0.72      6000\n",
      "\n",
      "[[3807  856]\n",
      " [ 817  520]]\n",
      "0.7211666666666666\n",
      "RandomForestClassifier\n",
      "              precision    recall  f1-score   support\n",
      "\n",
      "           0       0.84      0.95      0.89      4663\n",
      "           1       0.66      0.36      0.47      1337\n",
      "\n",
      "    accuracy                           0.82      6000\n",
      "   macro avg       0.75      0.65      0.68      6000\n",
      "weighted avg       0.80      0.82      0.79      6000\n",
      "\n",
      "[[4411  252]\n",
      " [ 853  484]]\n",
      "0.8158333333333333\n",
      "AdaBoostClassifier\n",
      "              precision    recall  f1-score   support\n",
      "\n",
      "           0       0.83      0.96      0.89      4663\n",
      "           1       0.68      0.29      0.41      1337\n",
      "\n",
      "    accuracy                           0.81      6000\n",
      "   macro avg       0.75      0.63      0.65      6000\n",
      "weighted avg       0.79      0.81      0.78      6000\n",
      "\n",
      "[[4481  182]\n",
      " [ 944  393]]\n",
      "0.8123333333333334\n",
      "GradientBoostingClassifier\n",
      "              precision    recall  f1-score   support\n",
      "\n",
      "           0       0.84      0.95      0.89      4663\n",
      "           1       0.67      0.36      0.47      1337\n",
      "\n",
      "    accuracy                           0.82      6000\n",
      "   macro avg       0.76      0.65      0.68      6000\n",
      "weighted avg       0.80      0.82      0.80      6000\n",
      "\n",
      "[[4431  232]\n",
      " [ 859  478]]\n",
      "0.8181666666666667\n"
     ]
    }
   ],
   "source": [
    "from sklearn.tree import DecisionTreeClassifier\n",
    "from sklearn.linear_model import LogisticRegression\n",
    "from sklearn.ensemble import RandomForestClassifier, AdaBoostClassifier, GradientBoostingClassifier\n",
    "from sklearn.model_selection import cross_val_score\n",
    "from sklearn.metrics import confusion_matrix, f1_score, precision_score, accuracy_score, recall_score, classification_report\n",
    "\n",
    "# import warnings filter\n",
    "from warnings import simplefilter\n",
    "# ignore all future warnings\n",
    "simplefilter(action='ignore', category=FutureWarning)\n",
    "\n",
    "scores = []\n",
    "\n",
    "classifiers = {'LogisticRegression': LogisticRegression(),\n",
    "               'DecisionTreeClassifier': DecisionTreeClassifier(), \n",
    "               'RandomForestClassifier': RandomForestClassifier(),\n",
    "               'AdaBoostClassifier': AdaBoostClassifier(), \n",
    "               'GradientBoostingClassifier': GradientBoostingClassifier()}\n",
    "\n",
    "for key, classifier in classifiers.items():\n",
    "    print(key)\n",
    "    classifier.fit(X_train, Y_train.values.ravel())\n",
    "    classifier_pred = classifier.predict(X_test)\n",
    "    print(classification_report(Y_test, classifier_pred))\n",
    "    print(confusion_matrix(Y_test, classifier_pred))\n",
    "    print(accuracy_score(Y_test, classifier_pred))\n"
   ]
  },
  {
   "cell_type": "markdown",
   "metadata": {},
   "source": [
    "althrough the accuracy_score is >0.8 for most models.  \n",
    "F1-score for default is very poor. model cannot capture default cases well. \n",
    "This is because the data set has 78% non default.  The model under look default cases. \n",
    "Need under sampling or over sampling\n"
   ]
  },
  {
   "cell_type": "markdown",
   "metadata": {},
   "source": [
    "Next, I undersampling the Majority Class(non-default), to make 50%/50% default/nondefault dataset"
   ]
  },
  {
   "cell_type": "code",
   "execution_count": 23,
   "metadata": {},
   "outputs": [
    {
     "name": "stdout",
     "output_type": "stream",
     "text": [
      "(13272, 31)\n"
     ]
    },
    {
     "data": {
      "text/html": [
       "<div>\n",
       "<style scoped>\n",
       "    .dataframe tbody tr th:only-of-type {\n",
       "        vertical-align: middle;\n",
       "    }\n",
       "\n",
       "    .dataframe tbody tr th {\n",
       "        vertical-align: top;\n",
       "    }\n",
       "\n",
       "    .dataframe thead th {\n",
       "        text-align: right;\n",
       "    }\n",
       "</style>\n",
       "<table border=\"1\" class=\"dataframe\">\n",
       "  <thead>\n",
       "    <tr style=\"text-align: right;\">\n",
       "      <th></th>\n",
       "      <th>X1</th>\n",
       "      <th>X12</th>\n",
       "      <th>X13</th>\n",
       "      <th>X14</th>\n",
       "      <th>X15</th>\n",
       "      <th>X16</th>\n",
       "      <th>X17</th>\n",
       "      <th>X18</th>\n",
       "      <th>X19</th>\n",
       "      <th>X20</th>\n",
       "      <th>...</th>\n",
       "      <th>['edu']_1</th>\n",
       "      <th>['edu']_2</th>\n",
       "      <th>['edu']_3</th>\n",
       "      <th>['edu']_4</th>\n",
       "      <th>['edu']_5</th>\n",
       "      <th>['edu']_6</th>\n",
       "      <th>['marital']_1</th>\n",
       "      <th>['marital']_2</th>\n",
       "      <th>['marital']_3</th>\n",
       "      <th>Y</th>\n",
       "    </tr>\n",
       "  </thead>\n",
       "  <tbody>\n",
       "    <tr>\n",
       "      <th>5078</th>\n",
       "      <td>0.731002</td>\n",
       "      <td>0.269886</td>\n",
       "      <td>0.306173</td>\n",
       "      <td>0.276933</td>\n",
       "      <td>0.275018</td>\n",
       "      <td>0.265836</td>\n",
       "      <td>0.271363</td>\n",
       "      <td>0.041126</td>\n",
       "      <td>0.018845</td>\n",
       "      <td>0.009620</td>\n",
       "      <td>...</td>\n",
       "      <td>0</td>\n",
       "      <td>1</td>\n",
       "      <td>0</td>\n",
       "      <td>0</td>\n",
       "      <td>0</td>\n",
       "      <td>0</td>\n",
       "      <td>0</td>\n",
       "      <td>0</td>\n",
       "      <td>1</td>\n",
       "      <td>1</td>\n",
       "    </tr>\n",
       "    <tr>\n",
       "      <th>18816</th>\n",
       "      <td>0.891677</td>\n",
       "      <td>0.174588</td>\n",
       "      <td>0.143851</td>\n",
       "      <td>0.113634</td>\n",
       "      <td>-0.017659</td>\n",
       "      <td>0.205500</td>\n",
       "      <td>0.173077</td>\n",
       "      <td>0.006369</td>\n",
       "      <td>0.006369</td>\n",
       "      <td>0.000386</td>\n",
       "      <td>...</td>\n",
       "      <td>0</td>\n",
       "      <td>1</td>\n",
       "      <td>0</td>\n",
       "      <td>0</td>\n",
       "      <td>0</td>\n",
       "      <td>0</td>\n",
       "      <td>0</td>\n",
       "      <td>1</td>\n",
       "      <td>0</td>\n",
       "      <td>0</td>\n",
       "    </tr>\n",
       "    <tr>\n",
       "      <th>4075</th>\n",
       "      <td>0.581515</td>\n",
       "      <td>0.526426</td>\n",
       "      <td>0.538628</td>\n",
       "      <td>0.146910</td>\n",
       "      <td>0.149740</td>\n",
       "      <td>0.154421</td>\n",
       "      <td>0.155991</td>\n",
       "      <td>0.026847</td>\n",
       "      <td>0.012357</td>\n",
       "      <td>0.005272</td>\n",
       "      <td>...</td>\n",
       "      <td>0</td>\n",
       "      <td>1</td>\n",
       "      <td>0</td>\n",
       "      <td>0</td>\n",
       "      <td>0</td>\n",
       "      <td>0</td>\n",
       "      <td>1</td>\n",
       "      <td>0</td>\n",
       "      <td>0</td>\n",
       "      <td>1</td>\n",
       "    </tr>\n",
       "    <tr>\n",
       "      <th>3850</th>\n",
       "      <td>0.512849</td>\n",
       "      <td>0.505177</td>\n",
       "      <td>0.454651</td>\n",
       "      <td>0.407090</td>\n",
       "      <td>0.301781</td>\n",
       "      <td>0.131864</td>\n",
       "      <td>0.000000</td>\n",
       "      <td>0.015601</td>\n",
       "      <td>0.013796</td>\n",
       "      <td>0.021273</td>\n",
       "      <td>...</td>\n",
       "      <td>1</td>\n",
       "      <td>0</td>\n",
       "      <td>0</td>\n",
       "      <td>0</td>\n",
       "      <td>0</td>\n",
       "      <td>0</td>\n",
       "      <td>1</td>\n",
       "      <td>0</td>\n",
       "      <td>0</td>\n",
       "      <td>1</td>\n",
       "    </tr>\n",
       "    <tr>\n",
       "      <th>23855</th>\n",
       "      <td>0.428413</td>\n",
       "      <td>0.392991</td>\n",
       "      <td>0.394977</td>\n",
       "      <td>0.362675</td>\n",
       "      <td>0.354910</td>\n",
       "      <td>0.348383</td>\n",
       "      <td>0.354783</td>\n",
       "      <td>0.015416</td>\n",
       "      <td>0.015069</td>\n",
       "      <td>0.015063</td>\n",
       "      <td>...</td>\n",
       "      <td>0</td>\n",
       "      <td>1</td>\n",
       "      <td>0</td>\n",
       "      <td>0</td>\n",
       "      <td>0</td>\n",
       "      <td>0</td>\n",
       "      <td>0</td>\n",
       "      <td>1</td>\n",
       "      <td>0</td>\n",
       "      <td>0</td>\n",
       "    </tr>\n",
       "  </tbody>\n",
       "</table>\n",
       "<p>5 rows × 31 columns</p>\n",
       "</div>"
      ],
      "text/plain": [
       "             X1       X12       X13       X14       X15       X16       X17  \\\n",
       "5078   0.731002  0.269886  0.306173  0.276933  0.275018  0.265836  0.271363   \n",
       "18816  0.891677  0.174588  0.143851  0.113634 -0.017659  0.205500  0.173077   \n",
       "4075   0.581515  0.526426  0.538628  0.146910  0.149740  0.154421  0.155991   \n",
       "3850   0.512849  0.505177  0.454651  0.407090  0.301781  0.131864  0.000000   \n",
       "23855  0.428413  0.392991  0.394977  0.362675  0.354910  0.348383  0.354783   \n",
       "\n",
       "            X18       X19       X20 ...  ['edu']_1  ['edu']_2  ['edu']_3  \\\n",
       "5078   0.041126  0.018845  0.009620 ...          0          1          0   \n",
       "18816  0.006369  0.006369  0.000386 ...          0          1          0   \n",
       "4075   0.026847  0.012357  0.005272 ...          0          1          0   \n",
       "3850   0.015601  0.013796  0.021273 ...          1          0          0   \n",
       "23855  0.015416  0.015069  0.015063 ...          0          1          0   \n",
       "\n",
       "       ['edu']_4  ['edu']_5  ['edu']_6  ['marital']_1  ['marital']_2  \\\n",
       "5078           0          0          0              0              0   \n",
       "18816          0          0          0              0              1   \n",
       "4075           0          0          0              1              0   \n",
       "3850           0          0          0              1              0   \n",
       "23855          0          0          0              0              1   \n",
       "\n",
       "       ['marital']_3  Y  \n",
       "5078               1  1  \n",
       "18816              0  0  \n",
       "4075               0  1  \n",
       "3850               0  1  \n",
       "23855              0  0  \n",
       "\n",
       "[5 rows x 31 columns]"
      ]
     },
     "execution_count": 23,
     "metadata": {},
     "output_type": "execute_result"
    }
   ],
   "source": [
    "dataset = pd.concat([X, Y], axis = 1)\n",
    "dataset = dataset.sample(frac=1) # shuffle the data\n",
    "default_df = dataset.loc[dataset['Y'] == 1]\n",
    "non_default_df = dataset.loc[dataset['Y'] == 0][:len(dataset[dataset['Y'] == 1])]\n",
    "\n",
    "normal_distributed_df = pd.concat([default_df, non_default_df])\n",
    "\n",
    "# shuffle the rows\n",
    "new_df = normal_distributed_df.sample(frac=1, random_state=42)\n",
    "print(new_df.shape)\n",
    "new_df.head()"
   ]
  },
  {
   "cell_type": "code",
   "execution_count": 24,
   "metadata": {},
   "outputs": [],
   "source": [
    "X_under = new_df.drop('Y', axis=1)\n",
    "Y_under = new_df['Y']\n",
    "X_train_under, X_test_under, y_train_under, y_test_under = train_test_split(X_under, Y_under, test_size=0.2, random_state=42)"
   ]
  },
  {
   "cell_type": "code",
   "execution_count": 25,
   "metadata": {},
   "outputs": [
    {
     "name": "stdout",
     "output_type": "stream",
     "text": [
      "LogisticRegression\n",
      "Classifiers:  LogisticRegression has a training score of 66.0 % f1 score\n",
      "DecisionTreeClassifier\n",
      "Classifiers:  DecisionTreeClassifier has a training score of 62.0 % f1 score\n",
      "RandomForestClassifier\n",
      "Classifiers:  RandomForestClassifier has a training score of 67.0 % f1 score\n",
      "AdaBoostClassifier\n",
      "Classifiers:  AdaBoostClassifier has a training score of 67.0 % f1 score\n",
      "GradientBoostingClassifier\n",
      "Classifiers:  GradientBoostingClassifier has a training score of 68.0 % f1 score\n",
      "LogisticRegression\n",
      "              precision    recall  f1-score   support\n",
      "\n",
      "           0       0.67      0.74      0.71      1345\n",
      "           1       0.70      0.63      0.66      1310\n",
      "\n",
      "    accuracy                           0.69      2655\n",
      "   macro avg       0.69      0.69      0.69      2655\n",
      "weighted avg       0.69      0.69      0.69      2655\n",
      "\n",
      "[[998 347]\n",
      " [485 825]]\n",
      "0.6866290018832392\n",
      "DecisionTreeClassifier\n",
      "              precision    recall  f1-score   support\n",
      "\n",
      "           0       0.61      0.59      0.60      1345\n",
      "           1       0.59      0.60      0.60      1310\n",
      "\n",
      "    accuracy                           0.60      2655\n",
      "   macro avg       0.60      0.60      0.60      2655\n",
      "weighted avg       0.60      0.60      0.60      2655\n",
      "\n",
      "[[799 546]\n",
      " [521 789]]\n",
      "0.5981167608286252\n",
      "RandomForestClassifier\n",
      "              precision    recall  f1-score   support\n",
      "\n",
      "           0       0.68      0.75      0.71      1345\n",
      "           1       0.71      0.64      0.67      1310\n",
      "\n",
      "    accuracy                           0.69      2655\n",
      "   macro avg       0.70      0.69      0.69      2655\n",
      "weighted avg       0.70      0.69      0.69      2655\n",
      "\n",
      "[[1007  338]\n",
      " [ 473  837]]\n",
      "0.6945386064030132\n",
      "AdaBoostClassifier\n",
      "              precision    recall  f1-score   support\n",
      "\n",
      "           0       0.68      0.80      0.73      1345\n",
      "           1       0.75      0.61      0.67      1310\n",
      "\n",
      "    accuracy                           0.71      2655\n",
      "   macro avg       0.71      0.70      0.70      2655\n",
      "weighted avg       0.71      0.71      0.70      2655\n",
      "\n",
      "[[1072  273]\n",
      " [ 508  802]]\n",
      "0.7058380414312617\n",
      "GradientBoostingClassifier\n",
      "              precision    recall  f1-score   support\n",
      "\n",
      "           0       0.68      0.79      0.73      1345\n",
      "           1       0.75      0.62      0.68      1310\n",
      "\n",
      "    accuracy                           0.71      2655\n",
      "   macro avg       0.72      0.71      0.71      2655\n",
      "weighted avg       0.71      0.71      0.71      2655\n",
      "\n",
      "[[1068  277]\n",
      " [ 494  816]]\n",
      "0.7096045197740113\n"
     ]
    }
   ],
   "source": [
    "scores = []\n",
    "\n",
    "classifiers = {'LogisticRegression': LogisticRegression(solver='liblinear'),\n",
    "               'DecisionTreeClassifier': DecisionTreeClassifier(), \n",
    "               'RandomForestClassifier': RandomForestClassifier(),\n",
    "               'AdaBoostClassifier': AdaBoostClassifier(), \n",
    "               'GradientBoostingClassifier': GradientBoostingClassifier()}\n",
    "for key, classifier in classifiers.items():\n",
    "    print(key)\n",
    "    classifier.fit(X_train_under, y_train_under.values.ravel())\n",
    "    training_score = cross_val_score(classifier, X_train_under, y_train_under.values.ravel(), cv=5, scoring='f1')\n",
    "    print(\"Classifiers: \", classifier.__class__.__name__, \"has a training score of\", round(training_score.mean(), 2) * 100, \"% f1 score\")\n",
    "    \n",
    "\n",
    "for key, classifier in classifiers.items():\n",
    "    print(key)\n",
    "    classifier.fit(X_train_under, y_train_under.values.ravel())\n",
    "    classifier_pred = classifier.predict(X_test_under)\n",
    "    print(classification_report(y_test_under, classifier_pred))\n",
    "    print(confusion_matrix(y_test_under, classifier_pred))\n",
    "    print(accuracy_score(y_test_under, classifier_pred))"
   ]
  },
  {
   "cell_type": "markdown",
   "metadata": {},
   "source": [
    "With under sampling, F1 score on default increases significantly to around 0.7. But the overall accuracy dropped to around 0.72\n",
    "RandomForest, adaboost, and GB perform roughly 0.7 F1 score on both default and non-default test set\n",
    "Could further improve by GridSearch. Due to time limitation. I only GridSearched Gradient Boosting  \n",
    "I am also going to explore over-sampling"
   ]
  },
  {
   "cell_type": "code",
   "execution_count": 26,
   "metadata": {},
   "outputs": [],
   "source": [
    "from sklearn.model_selection import GridSearchCV"
   ]
  },
  {
   "cell_type": "code",
   "execution_count": 28,
   "metadata": {},
   "outputs": [
    {
     "ename": "KeyboardInterrupt",
     "evalue": "",
     "output_type": "error",
     "traceback": [
      "\u001b[1;31m---------------------------------------------------------------------------\u001b[0m",
      "\u001b[1;31mKeyboardInterrupt\u001b[0m                         Traceback (most recent call last)",
      "\u001b[1;32m<ipython-input-28-d3716c8d422d>\u001b[0m in \u001b[0;36m<module>\u001b[1;34m\u001b[0m\n\u001b[0;32m      4\u001b[0m               \"criterion\": [\"friedman_mse\",  \"mae\"]}\n\u001b[0;32m      5\u001b[0m \u001b[0mgrid_gb\u001b[0m \u001b[1;33m=\u001b[0m \u001b[0mGridSearchCV\u001b[0m\u001b[1;33m(\u001b[0m\u001b[0mGradientBoostingClassifier\u001b[0m\u001b[1;33m(\u001b[0m\u001b[1;33m)\u001b[0m\u001b[1;33m,\u001b[0m \u001b[0mgb_params\u001b[0m\u001b[1;33m,\u001b[0m \u001b[0mscoring\u001b[0m\u001b[1;33m=\u001b[0m\u001b[1;34m'f1'\u001b[0m\u001b[1;33m)\u001b[0m\u001b[1;33m\u001b[0m\u001b[1;33m\u001b[0m\u001b[0m\n\u001b[1;32m----> 6\u001b[1;33m \u001b[0mgrid_gb\u001b[0m\u001b[1;33m.\u001b[0m\u001b[0mfit\u001b[0m\u001b[1;33m(\u001b[0m\u001b[0mX_train_under\u001b[0m\u001b[1;33m,\u001b[0m \u001b[0my_train_under\u001b[0m\u001b[1;33m)\u001b[0m\u001b[1;33m\u001b[0m\u001b[1;33m\u001b[0m\u001b[0m\n\u001b[0m\u001b[0;32m      7\u001b[0m \u001b[0mparam_gb\u001b[0m \u001b[1;33m=\u001b[0m \u001b[0mgrid_gb\u001b[0m\u001b[1;33m.\u001b[0m\u001b[0mbest_estimator_\u001b[0m\u001b[1;33m\u001b[0m\u001b[1;33m\u001b[0m\u001b[0m\n\u001b[0;32m      8\u001b[0m \u001b[0mprint\u001b[0m\u001b[1;33m(\u001b[0m\u001b[0mgrid_gb\u001b[0m\u001b[1;33m.\u001b[0m\u001b[0mbest_params_\u001b[0m\u001b[1;33m)\u001b[0m\u001b[1;33m\u001b[0m\u001b[1;33m\u001b[0m\u001b[0m\n",
      "\u001b[1;32m~\\AppData\\Roaming\\Python\\Python37\\site-packages\\sklearn\\model_selection\\_search.py\u001b[0m in \u001b[0;36mfit\u001b[1;34m(self, X, y, groups, **fit_params)\u001b[0m\n\u001b[0;32m    708\u001b[0m                 \u001b[1;32mreturn\u001b[0m \u001b[0mresults\u001b[0m\u001b[1;33m\u001b[0m\u001b[1;33m\u001b[0m\u001b[0m\n\u001b[0;32m    709\u001b[0m \u001b[1;33m\u001b[0m\u001b[0m\n\u001b[1;32m--> 710\u001b[1;33m             \u001b[0mself\u001b[0m\u001b[1;33m.\u001b[0m\u001b[0m_run_search\u001b[0m\u001b[1;33m(\u001b[0m\u001b[0mevaluate_candidates\u001b[0m\u001b[1;33m)\u001b[0m\u001b[1;33m\u001b[0m\u001b[1;33m\u001b[0m\u001b[0m\n\u001b[0m\u001b[0;32m    711\u001b[0m \u001b[1;33m\u001b[0m\u001b[0m\n\u001b[0;32m    712\u001b[0m         \u001b[1;31m# For multi-metric evaluation, store the best_index_, best_params_ and\u001b[0m\u001b[1;33m\u001b[0m\u001b[1;33m\u001b[0m\u001b[1;33m\u001b[0m\u001b[0m\n",
      "\u001b[1;32m~\\AppData\\Roaming\\Python\\Python37\\site-packages\\sklearn\\model_selection\\_search.py\u001b[0m in \u001b[0;36m_run_search\u001b[1;34m(self, evaluate_candidates)\u001b[0m\n\u001b[0;32m   1149\u001b[0m     \u001b[1;32mdef\u001b[0m \u001b[0m_run_search\u001b[0m\u001b[1;33m(\u001b[0m\u001b[0mself\u001b[0m\u001b[1;33m,\u001b[0m \u001b[0mevaluate_candidates\u001b[0m\u001b[1;33m)\u001b[0m\u001b[1;33m:\u001b[0m\u001b[1;33m\u001b[0m\u001b[1;33m\u001b[0m\u001b[0m\n\u001b[0;32m   1150\u001b[0m         \u001b[1;34m\"\"\"Search all candidates in param_grid\"\"\"\u001b[0m\u001b[1;33m\u001b[0m\u001b[1;33m\u001b[0m\u001b[0m\n\u001b[1;32m-> 1151\u001b[1;33m         \u001b[0mevaluate_candidates\u001b[0m\u001b[1;33m(\u001b[0m\u001b[0mParameterGrid\u001b[0m\u001b[1;33m(\u001b[0m\u001b[0mself\u001b[0m\u001b[1;33m.\u001b[0m\u001b[0mparam_grid\u001b[0m\u001b[1;33m)\u001b[0m\u001b[1;33m)\u001b[0m\u001b[1;33m\u001b[0m\u001b[1;33m\u001b[0m\u001b[0m\n\u001b[0m\u001b[0;32m   1152\u001b[0m \u001b[1;33m\u001b[0m\u001b[0m\n\u001b[0;32m   1153\u001b[0m \u001b[1;33m\u001b[0m\u001b[0m\n",
      "\u001b[1;32m~\\AppData\\Roaming\\Python\\Python37\\site-packages\\sklearn\\model_selection\\_search.py\u001b[0m in \u001b[0;36mevaluate_candidates\u001b[1;34m(candidate_params)\u001b[0m\n\u001b[0;32m    687\u001b[0m                                \u001b[1;32mfor\u001b[0m \u001b[0mparameters\u001b[0m\u001b[1;33m,\u001b[0m \u001b[1;33m(\u001b[0m\u001b[0mtrain\u001b[0m\u001b[1;33m,\u001b[0m \u001b[0mtest\u001b[0m\u001b[1;33m)\u001b[0m\u001b[1;33m\u001b[0m\u001b[1;33m\u001b[0m\u001b[0m\n\u001b[0;32m    688\u001b[0m                                in product(candidate_params,\n\u001b[1;32m--> 689\u001b[1;33m                                           cv.split(X, y, groups)))\n\u001b[0m\u001b[0;32m    690\u001b[0m \u001b[1;33m\u001b[0m\u001b[0m\n\u001b[0;32m    691\u001b[0m                 \u001b[1;32mif\u001b[0m \u001b[0mlen\u001b[0m\u001b[1;33m(\u001b[0m\u001b[0mout\u001b[0m\u001b[1;33m)\u001b[0m \u001b[1;33m<\u001b[0m \u001b[1;36m1\u001b[0m\u001b[1;33m:\u001b[0m\u001b[1;33m\u001b[0m\u001b[1;33m\u001b[0m\u001b[0m\n",
      "\u001b[1;32mD:\\anacoda\\lib\\site-packages\\joblib\\parallel.py\u001b[0m in \u001b[0;36m__call__\u001b[1;34m(self, iterable)\u001b[0m\n\u001b[0;32m   1005\u001b[0m                 \u001b[0mself\u001b[0m\u001b[1;33m.\u001b[0m\u001b[0m_iterating\u001b[0m \u001b[1;33m=\u001b[0m \u001b[0mself\u001b[0m\u001b[1;33m.\u001b[0m\u001b[0m_original_iterator\u001b[0m \u001b[1;32mis\u001b[0m \u001b[1;32mnot\u001b[0m \u001b[1;32mNone\u001b[0m\u001b[1;33m\u001b[0m\u001b[1;33m\u001b[0m\u001b[0m\n\u001b[0;32m   1006\u001b[0m \u001b[1;33m\u001b[0m\u001b[0m\n\u001b[1;32m-> 1007\u001b[1;33m             \u001b[1;32mwhile\u001b[0m \u001b[0mself\u001b[0m\u001b[1;33m.\u001b[0m\u001b[0mdispatch_one_batch\u001b[0m\u001b[1;33m(\u001b[0m\u001b[0miterator\u001b[0m\u001b[1;33m)\u001b[0m\u001b[1;33m:\u001b[0m\u001b[1;33m\u001b[0m\u001b[1;33m\u001b[0m\u001b[0m\n\u001b[0m\u001b[0;32m   1008\u001b[0m                 \u001b[1;32mpass\u001b[0m\u001b[1;33m\u001b[0m\u001b[1;33m\u001b[0m\u001b[0m\n\u001b[0;32m   1009\u001b[0m \u001b[1;33m\u001b[0m\u001b[0m\n",
      "\u001b[1;32mD:\\anacoda\\lib\\site-packages\\joblib\\parallel.py\u001b[0m in \u001b[0;36mdispatch_one_batch\u001b[1;34m(self, iterator)\u001b[0m\n\u001b[0;32m    833\u001b[0m                 \u001b[1;32mreturn\u001b[0m \u001b[1;32mFalse\u001b[0m\u001b[1;33m\u001b[0m\u001b[1;33m\u001b[0m\u001b[0m\n\u001b[0;32m    834\u001b[0m             \u001b[1;32melse\u001b[0m\u001b[1;33m:\u001b[0m\u001b[1;33m\u001b[0m\u001b[1;33m\u001b[0m\u001b[0m\n\u001b[1;32m--> 835\u001b[1;33m                 \u001b[0mself\u001b[0m\u001b[1;33m.\u001b[0m\u001b[0m_dispatch\u001b[0m\u001b[1;33m(\u001b[0m\u001b[0mtasks\u001b[0m\u001b[1;33m)\u001b[0m\u001b[1;33m\u001b[0m\u001b[1;33m\u001b[0m\u001b[0m\n\u001b[0m\u001b[0;32m    836\u001b[0m                 \u001b[1;32mreturn\u001b[0m \u001b[1;32mTrue\u001b[0m\u001b[1;33m\u001b[0m\u001b[1;33m\u001b[0m\u001b[0m\n\u001b[0;32m    837\u001b[0m \u001b[1;33m\u001b[0m\u001b[0m\n",
      "\u001b[1;32mD:\\anacoda\\lib\\site-packages\\joblib\\parallel.py\u001b[0m in \u001b[0;36m_dispatch\u001b[1;34m(self, batch)\u001b[0m\n\u001b[0;32m    752\u001b[0m         \u001b[1;32mwith\u001b[0m \u001b[0mself\u001b[0m\u001b[1;33m.\u001b[0m\u001b[0m_lock\u001b[0m\u001b[1;33m:\u001b[0m\u001b[1;33m\u001b[0m\u001b[1;33m\u001b[0m\u001b[0m\n\u001b[0;32m    753\u001b[0m             \u001b[0mjob_idx\u001b[0m \u001b[1;33m=\u001b[0m \u001b[0mlen\u001b[0m\u001b[1;33m(\u001b[0m\u001b[0mself\u001b[0m\u001b[1;33m.\u001b[0m\u001b[0m_jobs\u001b[0m\u001b[1;33m)\u001b[0m\u001b[1;33m\u001b[0m\u001b[1;33m\u001b[0m\u001b[0m\n\u001b[1;32m--> 754\u001b[1;33m             \u001b[0mjob\u001b[0m \u001b[1;33m=\u001b[0m \u001b[0mself\u001b[0m\u001b[1;33m.\u001b[0m\u001b[0m_backend\u001b[0m\u001b[1;33m.\u001b[0m\u001b[0mapply_async\u001b[0m\u001b[1;33m(\u001b[0m\u001b[0mbatch\u001b[0m\u001b[1;33m,\u001b[0m \u001b[0mcallback\u001b[0m\u001b[1;33m=\u001b[0m\u001b[0mcb\u001b[0m\u001b[1;33m)\u001b[0m\u001b[1;33m\u001b[0m\u001b[1;33m\u001b[0m\u001b[0m\n\u001b[0m\u001b[0;32m    755\u001b[0m             \u001b[1;31m# A job can complete so quickly than its callback is\u001b[0m\u001b[1;33m\u001b[0m\u001b[1;33m\u001b[0m\u001b[1;33m\u001b[0m\u001b[0m\n\u001b[0;32m    756\u001b[0m             \u001b[1;31m# called before we get here, causing self._jobs to\u001b[0m\u001b[1;33m\u001b[0m\u001b[1;33m\u001b[0m\u001b[1;33m\u001b[0m\u001b[0m\n",
      "\u001b[1;32mD:\\anacoda\\lib\\site-packages\\joblib\\_parallel_backends.py\u001b[0m in \u001b[0;36mapply_async\u001b[1;34m(self, func, callback)\u001b[0m\n\u001b[0;32m    207\u001b[0m     \u001b[1;32mdef\u001b[0m \u001b[0mapply_async\u001b[0m\u001b[1;33m(\u001b[0m\u001b[0mself\u001b[0m\u001b[1;33m,\u001b[0m \u001b[0mfunc\u001b[0m\u001b[1;33m,\u001b[0m \u001b[0mcallback\u001b[0m\u001b[1;33m=\u001b[0m\u001b[1;32mNone\u001b[0m\u001b[1;33m)\u001b[0m\u001b[1;33m:\u001b[0m\u001b[1;33m\u001b[0m\u001b[1;33m\u001b[0m\u001b[0m\n\u001b[0;32m    208\u001b[0m         \u001b[1;34m\"\"\"Schedule a func to be run\"\"\"\u001b[0m\u001b[1;33m\u001b[0m\u001b[1;33m\u001b[0m\u001b[0m\n\u001b[1;32m--> 209\u001b[1;33m         \u001b[0mresult\u001b[0m \u001b[1;33m=\u001b[0m \u001b[0mImmediateResult\u001b[0m\u001b[1;33m(\u001b[0m\u001b[0mfunc\u001b[0m\u001b[1;33m)\u001b[0m\u001b[1;33m\u001b[0m\u001b[1;33m\u001b[0m\u001b[0m\n\u001b[0m\u001b[0;32m    210\u001b[0m         \u001b[1;32mif\u001b[0m \u001b[0mcallback\u001b[0m\u001b[1;33m:\u001b[0m\u001b[1;33m\u001b[0m\u001b[1;33m\u001b[0m\u001b[0m\n\u001b[0;32m    211\u001b[0m             \u001b[0mcallback\u001b[0m\u001b[1;33m(\u001b[0m\u001b[0mresult\u001b[0m\u001b[1;33m)\u001b[0m\u001b[1;33m\u001b[0m\u001b[1;33m\u001b[0m\u001b[0m\n",
      "\u001b[1;32mD:\\anacoda\\lib\\site-packages\\joblib\\_parallel_backends.py\u001b[0m in \u001b[0;36m__init__\u001b[1;34m(self, batch)\u001b[0m\n\u001b[0;32m    588\u001b[0m         \u001b[1;31m# Don't delay the application, to avoid keeping the input\u001b[0m\u001b[1;33m\u001b[0m\u001b[1;33m\u001b[0m\u001b[1;33m\u001b[0m\u001b[0m\n\u001b[0;32m    589\u001b[0m         \u001b[1;31m# arguments in memory\u001b[0m\u001b[1;33m\u001b[0m\u001b[1;33m\u001b[0m\u001b[1;33m\u001b[0m\u001b[0m\n\u001b[1;32m--> 590\u001b[1;33m         \u001b[0mself\u001b[0m\u001b[1;33m.\u001b[0m\u001b[0mresults\u001b[0m \u001b[1;33m=\u001b[0m \u001b[0mbatch\u001b[0m\u001b[1;33m(\u001b[0m\u001b[1;33m)\u001b[0m\u001b[1;33m\u001b[0m\u001b[1;33m\u001b[0m\u001b[0m\n\u001b[0m\u001b[0;32m    591\u001b[0m \u001b[1;33m\u001b[0m\u001b[0m\n\u001b[0;32m    592\u001b[0m     \u001b[1;32mdef\u001b[0m \u001b[0mget\u001b[0m\u001b[1;33m(\u001b[0m\u001b[0mself\u001b[0m\u001b[1;33m)\u001b[0m\u001b[1;33m:\u001b[0m\u001b[1;33m\u001b[0m\u001b[1;33m\u001b[0m\u001b[0m\n",
      "\u001b[1;32mD:\\anacoda\\lib\\site-packages\\joblib\\parallel.py\u001b[0m in \u001b[0;36m__call__\u001b[1;34m(self)\u001b[0m\n\u001b[0;32m    254\u001b[0m         \u001b[1;32mwith\u001b[0m \u001b[0mparallel_backend\u001b[0m\u001b[1;33m(\u001b[0m\u001b[0mself\u001b[0m\u001b[1;33m.\u001b[0m\u001b[0m_backend\u001b[0m\u001b[1;33m,\u001b[0m \u001b[0mn_jobs\u001b[0m\u001b[1;33m=\u001b[0m\u001b[0mself\u001b[0m\u001b[1;33m.\u001b[0m\u001b[0m_n_jobs\u001b[0m\u001b[1;33m)\u001b[0m\u001b[1;33m:\u001b[0m\u001b[1;33m\u001b[0m\u001b[1;33m\u001b[0m\u001b[0m\n\u001b[0;32m    255\u001b[0m             return [func(*args, **kwargs)\n\u001b[1;32m--> 256\u001b[1;33m                     for func, args, kwargs in self.items]\n\u001b[0m\u001b[0;32m    257\u001b[0m \u001b[1;33m\u001b[0m\u001b[0m\n\u001b[0;32m    258\u001b[0m     \u001b[1;32mdef\u001b[0m \u001b[0m__len__\u001b[0m\u001b[1;33m(\u001b[0m\u001b[0mself\u001b[0m\u001b[1;33m)\u001b[0m\u001b[1;33m:\u001b[0m\u001b[1;33m\u001b[0m\u001b[1;33m\u001b[0m\u001b[0m\n",
      "\u001b[1;32mD:\\anacoda\\lib\\site-packages\\joblib\\parallel.py\u001b[0m in \u001b[0;36m<listcomp>\u001b[1;34m(.0)\u001b[0m\n\u001b[0;32m    254\u001b[0m         \u001b[1;32mwith\u001b[0m \u001b[0mparallel_backend\u001b[0m\u001b[1;33m(\u001b[0m\u001b[0mself\u001b[0m\u001b[1;33m.\u001b[0m\u001b[0m_backend\u001b[0m\u001b[1;33m,\u001b[0m \u001b[0mn_jobs\u001b[0m\u001b[1;33m=\u001b[0m\u001b[0mself\u001b[0m\u001b[1;33m.\u001b[0m\u001b[0m_n_jobs\u001b[0m\u001b[1;33m)\u001b[0m\u001b[1;33m:\u001b[0m\u001b[1;33m\u001b[0m\u001b[1;33m\u001b[0m\u001b[0m\n\u001b[0;32m    255\u001b[0m             return [func(*args, **kwargs)\n\u001b[1;32m--> 256\u001b[1;33m                     for func, args, kwargs in self.items]\n\u001b[0m\u001b[0;32m    257\u001b[0m \u001b[1;33m\u001b[0m\u001b[0m\n\u001b[0;32m    258\u001b[0m     \u001b[1;32mdef\u001b[0m \u001b[0m__len__\u001b[0m\u001b[1;33m(\u001b[0m\u001b[0mself\u001b[0m\u001b[1;33m)\u001b[0m\u001b[1;33m:\u001b[0m\u001b[1;33m\u001b[0m\u001b[1;33m\u001b[0m\u001b[0m\n",
      "\u001b[1;32m~\\AppData\\Roaming\\Python\\Python37\\site-packages\\sklearn\\model_selection\\_validation.py\u001b[0m in \u001b[0;36m_fit_and_score\u001b[1;34m(estimator, X, y, scorer, train, test, verbose, parameters, fit_params, return_train_score, return_parameters, return_n_test_samples, return_times, return_estimator, error_score)\u001b[0m\n\u001b[0;32m    513\u001b[0m             \u001b[0mestimator\u001b[0m\u001b[1;33m.\u001b[0m\u001b[0mfit\u001b[0m\u001b[1;33m(\u001b[0m\u001b[0mX_train\u001b[0m\u001b[1;33m,\u001b[0m \u001b[1;33m**\u001b[0m\u001b[0mfit_params\u001b[0m\u001b[1;33m)\u001b[0m\u001b[1;33m\u001b[0m\u001b[1;33m\u001b[0m\u001b[0m\n\u001b[0;32m    514\u001b[0m         \u001b[1;32melse\u001b[0m\u001b[1;33m:\u001b[0m\u001b[1;33m\u001b[0m\u001b[1;33m\u001b[0m\u001b[0m\n\u001b[1;32m--> 515\u001b[1;33m             \u001b[0mestimator\u001b[0m\u001b[1;33m.\u001b[0m\u001b[0mfit\u001b[0m\u001b[1;33m(\u001b[0m\u001b[0mX_train\u001b[0m\u001b[1;33m,\u001b[0m \u001b[0my_train\u001b[0m\u001b[1;33m,\u001b[0m \u001b[1;33m**\u001b[0m\u001b[0mfit_params\u001b[0m\u001b[1;33m)\u001b[0m\u001b[1;33m\u001b[0m\u001b[1;33m\u001b[0m\u001b[0m\n\u001b[0m\u001b[0;32m    516\u001b[0m \u001b[1;33m\u001b[0m\u001b[0m\n\u001b[0;32m    517\u001b[0m     \u001b[1;32mexcept\u001b[0m \u001b[0mException\u001b[0m \u001b[1;32mas\u001b[0m \u001b[0me\u001b[0m\u001b[1;33m:\u001b[0m\u001b[1;33m\u001b[0m\u001b[1;33m\u001b[0m\u001b[0m\n",
      "\u001b[1;32m~\\AppData\\Roaming\\Python\\Python37\\site-packages\\sklearn\\ensemble\\_gb.py\u001b[0m in \u001b[0;36mfit\u001b[1;34m(self, X, y, sample_weight, monitor)\u001b[0m\n\u001b[0;32m   1535\u001b[0m         n_stages = self._fit_stages(\n\u001b[0;32m   1536\u001b[0m             \u001b[0mX\u001b[0m\u001b[1;33m,\u001b[0m \u001b[0my\u001b[0m\u001b[1;33m,\u001b[0m \u001b[0mraw_predictions\u001b[0m\u001b[1;33m,\u001b[0m \u001b[0msample_weight\u001b[0m\u001b[1;33m,\u001b[0m \u001b[0mself\u001b[0m\u001b[1;33m.\u001b[0m\u001b[0m_rng\u001b[0m\u001b[1;33m,\u001b[0m \u001b[0mX_val\u001b[0m\u001b[1;33m,\u001b[0m \u001b[0my_val\u001b[0m\u001b[1;33m,\u001b[0m\u001b[1;33m\u001b[0m\u001b[1;33m\u001b[0m\u001b[0m\n\u001b[1;32m-> 1537\u001b[1;33m             sample_weight_val, begin_at_stage, monitor, X_idx_sorted)\n\u001b[0m\u001b[0;32m   1538\u001b[0m \u001b[1;33m\u001b[0m\u001b[0m\n\u001b[0;32m   1539\u001b[0m         \u001b[1;31m# change shape of arrays after fit (early-stopping or additional ests)\u001b[0m\u001b[1;33m\u001b[0m\u001b[1;33m\u001b[0m\u001b[1;33m\u001b[0m\u001b[0m\n",
      "\u001b[1;32m~\\AppData\\Roaming\\Python\\Python37\\site-packages\\sklearn\\ensemble\\_gb.py\u001b[0m in \u001b[0;36m_fit_stages\u001b[1;34m(self, X, y, raw_predictions, sample_weight, random_state, X_val, y_val, sample_weight_val, begin_at_stage, monitor, X_idx_sorted)\u001b[0m\n\u001b[0;32m   1592\u001b[0m             raw_predictions = self._fit_stage(\n\u001b[0;32m   1593\u001b[0m                 \u001b[0mi\u001b[0m\u001b[1;33m,\u001b[0m \u001b[0mX\u001b[0m\u001b[1;33m,\u001b[0m \u001b[0my\u001b[0m\u001b[1;33m,\u001b[0m \u001b[0mraw_predictions\u001b[0m\u001b[1;33m,\u001b[0m \u001b[0msample_weight\u001b[0m\u001b[1;33m,\u001b[0m \u001b[0msample_mask\u001b[0m\u001b[1;33m,\u001b[0m\u001b[1;33m\u001b[0m\u001b[1;33m\u001b[0m\u001b[0m\n\u001b[1;32m-> 1594\u001b[1;33m                 random_state, X_idx_sorted, X_csc, X_csr)\n\u001b[0m\u001b[0;32m   1595\u001b[0m \u001b[1;33m\u001b[0m\u001b[0m\n\u001b[0;32m   1596\u001b[0m             \u001b[1;31m# track deviance (= loss)\u001b[0m\u001b[1;33m\u001b[0m\u001b[1;33m\u001b[0m\u001b[1;33m\u001b[0m\u001b[0m\n",
      "\u001b[1;32m~\\AppData\\Roaming\\Python\\Python37\\site-packages\\sklearn\\ensemble\\_gb.py\u001b[0m in \u001b[0;36m_fit_stage\u001b[1;34m(self, i, X, y, raw_predictions, sample_weight, sample_mask, random_state, X_idx_sorted, X_csc, X_csr)\u001b[0m\n\u001b[0;32m   1243\u001b[0m             \u001b[0mX\u001b[0m \u001b[1;33m=\u001b[0m \u001b[0mX_csr\u001b[0m \u001b[1;32mif\u001b[0m \u001b[0mX_csr\u001b[0m \u001b[1;32mis\u001b[0m \u001b[1;32mnot\u001b[0m \u001b[1;32mNone\u001b[0m \u001b[1;32melse\u001b[0m \u001b[0mX\u001b[0m\u001b[1;33m\u001b[0m\u001b[1;33m\u001b[0m\u001b[0m\n\u001b[0;32m   1244\u001b[0m             tree.fit(X, residual, sample_weight=sample_weight,\n\u001b[1;32m-> 1245\u001b[1;33m                      check_input=False, X_idx_sorted=X_idx_sorted)\n\u001b[0m\u001b[0;32m   1246\u001b[0m \u001b[1;33m\u001b[0m\u001b[0m\n\u001b[0;32m   1247\u001b[0m             \u001b[1;31m# update tree leaves\u001b[0m\u001b[1;33m\u001b[0m\u001b[1;33m\u001b[0m\u001b[1;33m\u001b[0m\u001b[0m\n",
      "\u001b[1;32m~\\AppData\\Roaming\\Python\\Python37\\site-packages\\sklearn\\tree\\_classes.py\u001b[0m in \u001b[0;36mfit\u001b[1;34m(self, X, y, sample_weight, check_input, X_idx_sorted)\u001b[0m\n\u001b[0;32m   1223\u001b[0m             \u001b[0msample_weight\u001b[0m\u001b[1;33m=\u001b[0m\u001b[0msample_weight\u001b[0m\u001b[1;33m,\u001b[0m\u001b[1;33m\u001b[0m\u001b[1;33m\u001b[0m\u001b[0m\n\u001b[0;32m   1224\u001b[0m             \u001b[0mcheck_input\u001b[0m\u001b[1;33m=\u001b[0m\u001b[0mcheck_input\u001b[0m\u001b[1;33m,\u001b[0m\u001b[1;33m\u001b[0m\u001b[1;33m\u001b[0m\u001b[0m\n\u001b[1;32m-> 1225\u001b[1;33m             X_idx_sorted=X_idx_sorted)\n\u001b[0m\u001b[0;32m   1226\u001b[0m         \u001b[1;32mreturn\u001b[0m \u001b[0mself\u001b[0m\u001b[1;33m\u001b[0m\u001b[1;33m\u001b[0m\u001b[0m\n\u001b[0;32m   1227\u001b[0m \u001b[1;33m\u001b[0m\u001b[0m\n",
      "\u001b[1;32m~\\AppData\\Roaming\\Python\\Python37\\site-packages\\sklearn\\tree\\_classes.py\u001b[0m in \u001b[0;36mfit\u001b[1;34m(self, X, y, sample_weight, check_input, X_idx_sorted)\u001b[0m\n\u001b[0;32m    365\u001b[0m                                            min_impurity_split)\n\u001b[0;32m    366\u001b[0m \u001b[1;33m\u001b[0m\u001b[0m\n\u001b[1;32m--> 367\u001b[1;33m         \u001b[0mbuilder\u001b[0m\u001b[1;33m.\u001b[0m\u001b[0mbuild\u001b[0m\u001b[1;33m(\u001b[0m\u001b[0mself\u001b[0m\u001b[1;33m.\u001b[0m\u001b[0mtree_\u001b[0m\u001b[1;33m,\u001b[0m \u001b[0mX\u001b[0m\u001b[1;33m,\u001b[0m \u001b[0my\u001b[0m\u001b[1;33m,\u001b[0m \u001b[0msample_weight\u001b[0m\u001b[1;33m,\u001b[0m \u001b[0mX_idx_sorted\u001b[0m\u001b[1;33m)\u001b[0m\u001b[1;33m\u001b[0m\u001b[1;33m\u001b[0m\u001b[0m\n\u001b[0m\u001b[0;32m    368\u001b[0m \u001b[1;33m\u001b[0m\u001b[0m\n\u001b[0;32m    369\u001b[0m         \u001b[1;32mif\u001b[0m \u001b[0mself\u001b[0m\u001b[1;33m.\u001b[0m\u001b[0mn_outputs_\u001b[0m \u001b[1;33m==\u001b[0m \u001b[1;36m1\u001b[0m \u001b[1;32mand\u001b[0m \u001b[0mis_classifier\u001b[0m\u001b[1;33m(\u001b[0m\u001b[0mself\u001b[0m\u001b[1;33m)\u001b[0m\u001b[1;33m:\u001b[0m\u001b[1;33m\u001b[0m\u001b[1;33m\u001b[0m\u001b[0m\n",
      "\u001b[1;31mKeyboardInterrupt\u001b[0m: "
     ]
    }
   ],
   "source": [
    "# Gradient Boosting Classifier \n",
    "# killed because takes too long\n",
    "gb_params = { \"learning_rate\": [0.01,0.05,0.1,0.3],\n",
    "              \"max_features\":[\"log2\",\"sqrt\"],\n",
    "              \"criterion\": [\"friedman_mse\",  \"mae\"]}\n",
    "grid_gb = GridSearchCV(GradientBoostingClassifier(), gb_params, scoring='f1')\n",
    "grid_gb.fit(X_train_under, y_train_under)\n",
    "param_gb = grid_gb.best_estimator_\n",
    "print(grid_gb.best_params_)\n",
    "pred_under_gb = param_gb.predict(X_test_under)\n",
    "print(f1_score(y_test_under, pred_under_gb))\n",
    "print(confusion_matrix(y_test_under, pred_under_gb))"
   ]
  },
  {
   "cell_type": "markdown",
   "metadata": {},
   "source": [
    "Grid search takes too long on my PC, so I was not able to optimize these parameters. The highest F1-score I obtain is around 0.69"
   ]
  },
  {
   "cell_type": "markdown",
   "metadata": {},
   "source": [
    "Next, I oversampling the minor Class(default), to make 50%/50% default/nondefault dataset"
   ]
  },
  {
   "cell_type": "code",
   "execution_count": 29,
   "metadata": {},
   "outputs": [
    {
     "name": "stderr",
     "output_type": "stream",
     "text": [
      "Using TensorFlow backend.\n"
     ]
    }
   ],
   "source": [
    "from imblearn.over_sampling import SMOTE # require imblearn. conda install -c conda-forge imbalanced-learn"
   ]
  },
  {
   "cell_type": "code",
   "execution_count": 30,
   "metadata": {},
   "outputs": [],
   "source": [
    "X_train_over, X_test_over, y_train_over, y_test_over = train_test_split(X, Y, test_size=0.1, random_state=42)"
   ]
  },
  {
   "cell_type": "code",
   "execution_count": 31,
   "metadata": {},
   "outputs": [
    {
     "name": "stdout",
     "output_type": "stream",
     "text": [
      "Before OverSampling, counts of label '1': 5977\n",
      "Before OverSampling, counts of label '0': 21023 \n",
      "\n",
      "After OverSampling, the shape of train_X: (42046, 30)\n",
      "After OverSampling, the shape of train_y: (42046,) \n",
      "\n"
     ]
    }
   ],
   "source": [
    "print(\"Before OverSampling, counts of label '1': {}\".format(len(y_train_over[y_train_over == 1])))\n",
    "print(\"Before OverSampling, counts of label '0': {} \\n\".format(len(y_train_over[y_train_over == 0])))\n",
    "\n",
    "sm = SMOTE(random_state=2)\n",
    "X_train_over, y_train_over = sm.fit_sample(X_train_over, y_train_over)\n",
    "print('After OverSampling, the shape of train_X: {}'.format(X_train_over.shape))\n",
    "print('After OverSampling, the shape of train_y: {} \\n'.format(y_train_over.shape))\n"
   ]
  },
  {
   "cell_type": "code",
   "execution_count": 32,
   "metadata": {},
   "outputs": [
    {
     "name": "stdout",
     "output_type": "stream",
     "text": [
      "LogisticRegression\n",
      "Classifiers:  LogisticRegression has a training score of 65.0 % f1 score\n",
      "DecisionTreeClassifier\n",
      "Classifiers:  DecisionTreeClassifier has a training score of 76.0 % f1 score\n",
      "RandomForestClassifier\n",
      "Classifiers:  RandomForestClassifier has a training score of 84.0 % f1 score\n",
      "AdaBoostClassifier\n",
      "Classifiers:  AdaBoostClassifier has a training score of 71.0 % f1 score\n",
      "GradientBoostingClassifier\n",
      "Classifiers:  GradientBoostingClassifier has a training score of 75.0 % f1 score\n",
      "LogisticRegression\n",
      "              precision    recall  f1-score   support\n",
      "\n",
      "           0       0.88      0.73      0.80      2341\n",
      "           1       0.40      0.63      0.49       659\n",
      "\n",
      "    accuracy                           0.71      3000\n",
      "   macro avg       0.64      0.68      0.64      3000\n",
      "weighted avg       0.77      0.71      0.73      3000\n",
      "\n",
      "[[1705  636]\n",
      " [ 243  416]]\n",
      "DecisionTreeClassifier\n",
      "              precision    recall  f1-score   support\n",
      "\n",
      "           0       0.83      0.75      0.79      2341\n",
      "           1       0.35      0.47      0.40       659\n",
      "\n",
      "    accuracy                           0.69      3000\n",
      "   macro avg       0.59      0.61      0.60      3000\n",
      "weighted avg       0.73      0.69      0.71      3000\n",
      "\n",
      "[[1766  575]\n",
      " [ 351  308]]\n",
      "RandomForestClassifier\n",
      "              precision    recall  f1-score   support\n",
      "\n",
      "           0       0.85      0.90      0.88      2341\n",
      "           1       0.56      0.46      0.50       659\n",
      "\n",
      "    accuracy                           0.80      3000\n",
      "   macro avg       0.71      0.68      0.69      3000\n",
      "weighted avg       0.79      0.80      0.79      3000\n",
      "\n",
      "[[2105  236]\n",
      " [ 359  300]]\n",
      "AdaBoostClassifier\n",
      "              precision    recall  f1-score   support\n",
      "\n",
      "           0       0.86      0.88      0.87      2341\n",
      "           1       0.55      0.51      0.53       659\n",
      "\n",
      "    accuracy                           0.80      3000\n",
      "   macro avg       0.71      0.69      0.70      3000\n",
      "weighted avg       0.79      0.80      0.80      3000\n",
      "\n",
      "[[2066  275]\n",
      " [ 326  333]]\n",
      "GradientBoostingClassifier\n",
      "              precision    recall  f1-score   support\n",
      "\n",
      "           0       0.86      0.90      0.88      2341\n",
      "           1       0.58      0.48      0.52       659\n",
      "\n",
      "    accuracy                           0.81      3000\n",
      "   macro avg       0.72      0.69      0.70      3000\n",
      "weighted avg       0.80      0.81      0.80      3000\n",
      "\n",
      "[[2109  232]\n",
      " [ 344  315]]\n"
     ]
    }
   ],
   "source": [
    "scores = []\n",
    "\n",
    "classifiers = {'LogisticRegression': LogisticRegression(solver='liblinear'),\n",
    "               'DecisionTreeClassifier': DecisionTreeClassifier(), \n",
    "               'RandomForestClassifier': RandomForestClassifier(),\n",
    "               'AdaBoostClassifier': AdaBoostClassifier(), \n",
    "               'GradientBoostingClassifier': GradientBoostingClassifier()}\n",
    "for key, classifier in classifiers.items():\n",
    "    print(key)\n",
    "    classifier.fit(X_train_over, y_train_over)\n",
    "    training_score = cross_val_score(classifier, X_train_over, y_train_over, cv=5, scoring='f1')\n",
    "    print(\"Classifiers: \", classifier.__class__.__name__, \"has a training score of\", round(training_score.mean(), 2) * 100, \"% f1 score\")\n",
    "for key, classifier in classifiers.items():\n",
    "    print(key)\n",
    "    classifier.fit(X_train_over, y_train_over)\n",
    "    classifier_pred = classifier.predict(X_test_over)\n",
    "    print(classification_report(y_test_over, classifier_pred))\n",
    "    print(confusion_matrix(y_test_over, classifier_pred))"
   ]
  },
  {
   "cell_type": "markdown",
   "metadata": {},
   "source": [
    "With over sampling, GB(without optimization) gives a accuracy of around 0.81, and the F1-score is 0.88, 0.52 for non-default and default cases on held-out data set.  So I think over sampling give a good overall performation for this data set.\n",
    "If I have more time, I may try a combination of over sampling and under sampling"
   ]
  },
  {
   "cell_type": "markdown",
   "metadata": {},
   "source": [
    "I will go ahead to estimate the probability of default using the over-sampled data set. \n",
    "I plan to use logistic regression, as it is the most convenient model to get problably (it is about 1 am, I think one day is not enough at all for this project...) "
   ]
  },
  {
   "cell_type": "code",
   "execution_count": 33,
   "metadata": {},
   "outputs": [
    {
     "name": "stdout",
     "output_type": "stream",
     "text": [
      "{'C': 0.1, 'penalty': 'l2'}\n",
      "              precision    recall  f1-score   support\n",
      "\n",
      "           0       0.65      0.78      0.71     21023\n",
      "           1       0.72      0.59      0.65     21023\n",
      "\n",
      "    accuracy                           0.68     42046\n",
      "   macro avg       0.69      0.68      0.68     42046\n",
      "weighted avg       0.69      0.68      0.68     42046\n",
      "\n",
      "0.6478155849611426\n"
     ]
    }
   ],
   "source": [
    "from sklearn.model_selection import GridSearchCV\n",
    "from sklearn.linear_model import LogisticRegression\n",
    "from sklearn.metrics import confusion_matrix, precision_recall_curve, auc, roc_auc_score, roc_curve, recall_score, classification_report\n",
    "\n",
    "lr_params = {\"penalty\": ['l1', 'l2'], \n",
    "             'C': [0.01, 0.1, 1]}\n",
    "grid_lr_over = GridSearchCV(LogisticRegression(solver='liblinear'), lr_params)\n",
    "grid_lr_over.fit(X_train_over, y_train_over)\n",
    "param_lr_over = grid_lr_over.best_estimator_\n",
    "print(grid_lr_over.best_params_)\n",
    "param_lr_score_over = param_lr_over.predict(X_train_over)\n",
    "print(classification_report(y_train_over, param_lr_score_over))\n",
    "oversampling_train_f1 = f1_score(y_train_over, param_lr_score_over)\n",
    "print(oversampling_train_f1)"
   ]
  },
  {
   "cell_type": "code",
   "execution_count": 34,
   "metadata": {},
   "outputs": [
    {
     "name": "stdout",
     "output_type": "stream",
     "text": [
      "[[0.61870736 0.38129264]\n",
      " [0.63094536 0.36905464]\n",
      " [0.49953234 0.50046766]\n",
      " ...\n",
      " [0.56511637 0.43488363]\n",
      " [0.63479504 0.36520496]\n",
      " [0.5642404  0.4357596 ]]\n"
     ]
    }
   ],
   "source": [
    "probility_of_default = param_lr_over.predict_proba(X_test_over)\n",
    "print(probility_of_default)"
   ]
  },
  {
   "cell_type": "markdown",
   "metadata": {},
   "source": []
  },
  {
   "cell_type": "code",
   "execution_count": null,
   "metadata": {},
   "outputs": [],
   "source": []
  }
 ],
 "metadata": {
  "kernelspec": {
   "display_name": "Python 3",
   "language": "python",
   "name": "python3"
  },
  "language_info": {
   "codemirror_mode": {
    "name": "ipython",
    "version": 3
   },
   "file_extension": ".py",
   "mimetype": "text/x-python",
   "name": "python",
   "nbconvert_exporter": "python",
   "pygments_lexer": "ipython3",
   "version": "3.7.1"
  }
 },
 "nbformat": 4,
 "nbformat_minor": 2
}
